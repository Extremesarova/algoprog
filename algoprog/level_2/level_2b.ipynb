{
 "cells": [
  {
   "cell_type": "markdown",
   "id": "d3fd5544-7cc0-48db-b210-6f5082d7446c",
   "metadata": {},
   "source": [
    "# Рекурсивный перебор"
   ]
  },
  {
   "cell_type": "markdown",
   "id": "6e5a5d12-04a1-47f8-87b2-8da5e125eca8",
   "metadata": {
    "tags": []
   },
   "source": [
    "## Двоичные строки заданной длины"
   ]
  },
  {
   "cell_type": "markdown",
   "id": "79f0331c-a168-4b1e-a859-6eea30943718",
   "metadata": {},
   "source": [
    "По данному числу N выведите все строки длины N из нулей и единиц в лексикографическом порядке.\n",
    "\n",
    "**Input data**\n",
    "Задано единственное число N. (натуральное, 1 ≤ N ≤ 10)\n",
    "\n",
    "**Output data**\n",
    "Необходимо вывести все строки длины N из нулей и единиц в лексикографическом порядке, по одной на строке"
   ]
  },
  {
   "cell_type": "code",
   "execution_count": 2,
   "id": "aa8191dc-4181-458e-83ca-20bd57ebe253",
   "metadata": {},
   "outputs": [
    {
     "name": "stdin",
     "output_type": "stream",
     "text": [
      " 5\n"
     ]
    },
    {
     "name": "stdout",
     "output_type": "stream",
     "text": [
      "00000\n",
      "00001\n",
      "00010\n",
      "00011\n",
      "00100\n",
      "00101\n",
      "00110\n",
      "00111\n",
      "01000\n",
      "01001\n",
      "01010\n",
      "01011\n",
      "01100\n",
      "01101\n",
      "01110\n",
      "01111\n",
      "10000\n",
      "10001\n",
      "10010\n",
      "10011\n",
      "10100\n",
      "10101\n",
      "10110\n",
      "10111\n",
      "11000\n",
      "11001\n",
      "11010\n",
      "11011\n",
      "11100\n",
      "11101\n",
      "11110\n",
      "11111\n"
     ]
    }
   ],
   "source": [
    "def check(a):\n",
    "    print(\"\".join(map(str, a)))\n",
    "\n",
    "\n",
    "def find(a, k):\n",
    "    def find_rec(i):\n",
    "        if i == k:\n",
    "            check(a)\n",
    "            return\n",
    "        a[i] = 0\n",
    "        find_rec(i + 1)\n",
    "        a[i] = 1\n",
    "        find_rec(i + 1)\n",
    "\n",
    "    find_rec(0)\n",
    "\n",
    "\n",
    "n = int(input())\n",
    "a = [None] * n\n",
    "\n",
    "find(a, n)"
   ]
  },
  {
   "cell_type": "code",
   "execution_count": null,
   "id": "0bc7f177-e050-4241-8c8e-414a91b8f523",
   "metadata": {},
   "outputs": [],
   "source": []
  }
 ],
 "metadata": {
  "kernelspec": {
   "display_name": "algoprog",
   "language": "python",
   "name": "algoprog"
  },
  "language_info": {
   "codemirror_mode": {
    "name": "ipython",
    "version": 3
   },
   "file_extension": ".py",
   "mimetype": "text/x-python",
   "name": "python",
   "nbconvert_exporter": "python",
   "pygments_lexer": "ipython3",
   "version": "3.8.10"
  }
 },
 "nbformat": 4,
 "nbformat_minor": 5
}
