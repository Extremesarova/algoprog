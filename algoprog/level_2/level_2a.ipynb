{
 "cells": [
  {
   "cell_type": "markdown",
   "id": "1266a41a-1dd2-4102-b615-c3e304ac2ead",
   "metadata": {},
   "source": [
    "# НОД, алгоритм Евклида"
   ]
  },
  {
   "cell_type": "markdown",
   "id": "40461db2-8335-4ec6-bc81-178155920ce2",
   "metadata": {
    "tags": []
   },
   "source": [
    "## НОД"
   ]
  },
  {
   "cell_type": "markdown",
   "id": "682e14ef-0d78-411d-89a4-b0722d1faf82",
   "metadata": {},
   "source": [
    "Даны два числа. Найти их наибольший общий делитель.\n",
    "\n",
    "**Input data**\n",
    "Вводятся два натуральных числа, не превышающих $10^9$.\n",
    "\n",
    "**Output data**\n",
    "Выведите НОД введенных чисел."
   ]
  },
  {
   "cell_type": "code",
   "execution_count": 6,
   "id": "3104bbf9-16e5-4d36-912e-bfc3ece9f368",
   "metadata": {},
   "outputs": [
    {
     "name": "stdout",
     "output_type": "stream",
     "text": [
      " 10 50\n",
      "10\n"
     ]
    }
   ],
   "source": [
    "def get_gcd(x, y):\n",
    "    while y != 0:\n",
    "        x, y = y, x % y\n",
    "    return x\n",
    "\n",
    "\n",
    "x, y = map(int, input().split())\n",
    "\n",
    "gcd = get_gcd(x, y)\n",
    "print(gcd)\n",
    "\n",
    "assert get_gcd(2, 1) == 1\n",
    "assert get_gcd(1, 2) == 1\n",
    "assert get_gcd(5, 3) == 1\n",
    "assert get_gcd(5, 10) == 5"
   ]
  },
  {
   "cell_type": "markdown",
   "id": "c469ea54-4957-4e09-8615-b051c303c27d",
   "metadata": {
    "tags": []
   },
   "source": [
    "## Сокращение дроби"
   ]
  },
  {
   "cell_type": "markdown",
   "id": "40617ade-25c5-410f-a80f-25bd6f40550d",
   "metadata": {},
   "source": [
    "Дана дробь a/b. Требуется ее сократить, то есть записать это же число в виде c/d, где c — целое число, d — натуральное число и d минимальное возможное.\n",
    "\n",
    "**Input data**\n",
    "Вводятся два целых числа a и b (–100≤a≤100, 0<b≤100).\n",
    "\n",
    "**Output data**\n",
    "Выведите два числа c и d."
   ]
  },
  {
   "cell_type": "code",
   "execution_count": 1,
   "id": "4ccd6c5c-ac6a-4a4e-93d7-b5f7e34490c8",
   "metadata": {},
   "outputs": [
    {
     "name": "stdout",
     "output_type": "stream",
     "text": [
      " 10 15\n",
      "2 3\n"
     ]
    }
   ],
   "source": [
    "def get_gcd(x, y):\n",
    "    while y != 0:\n",
    "        x, y = y, x % y\n",
    "\n",
    "    return x\n",
    "\n",
    "\n",
    "def reduce_fraction(a, b):\n",
    "    gcd = get_gcd(a, b)\n",
    "    c = a // gcd\n",
    "    d = b // gcd\n",
    "\n",
    "    return c, d\n",
    "\n",
    "\n",
    "a, b = map(int, input().split())\n",
    "\n",
    "c, d = reduce_fraction(a, b)\n",
    "print(c, d)\n",
    "\n",
    "assert reduce_fraction(3, 6) == (1, 2)\n",
    "assert reduce_fraction(20, 15) == (4, 3)\n",
    "assert reduce_fraction(-2, 5) == (-2, 5)\n",
    "assert reduce_fraction(-5, 10) == (-1, 2)"
   ]
  },
  {
   "cell_type": "markdown",
   "id": "0bf16429-bf0a-4262-b68a-668009deef9e",
   "metadata": {},
   "source": [
    "# Префиксные суммы и смежные темы"
   ]
  },
  {
   "cell_type": "markdown",
   "id": "16c47097-5b0e-4744-a76e-6e958c6f3179",
   "metadata": {
    "tags": []
   },
   "source": [
    "## Сумма на отрезке"
   ]
  },
  {
   "cell_type": "markdown",
   "id": "d08fda82-9f89-4414-9ab0-f8a41cef03be",
   "metadata": {},
   "source": [
    "Дан массив из `N` целых чисел. Вам поступают запросы о сумме всех элементов массива с элемента x по элемент y включительно. Требуется ответить на все запросы.\n",
    "\n",
    "**Input data**\n",
    "В первой строке находится число N количество элементов массива (1 ≤ N ≤ 100000) и M - количесто запросов(1 ≤ M ≤ 100000). В следующей строке через пробел указаны элементы массива (по модулю не превосходят 1000). Последующие M строк содержат по 2-а целых числа, разделенных пробелом - запрос на сумму элементов на отрезке массива (1 ≤ x ≤ y ≤ N )\n",
    "\n",
    "**Output data**\n",
    "Для каждого запроса на отдельной строке выведите его результат - сумму всех чисел в массиве от элемента x до элемента y."
   ]
  },
  {
   "cell_type": "code",
   "execution_count": 94,
   "id": "1b31e511-21cd-4dae-845e-752839ffd685",
   "metadata": {},
   "outputs": [
    {
     "name": "stdout",
     "output_type": "stream",
     "text": [
      " 5 2\n",
      " 1 2 3 4 5\n",
      " 2 4\n",
      " 3 5\n",
      "9\n",
      "12\n"
     ]
    }
   ],
   "source": [
    "def get_prefix_array(a):\n",
    "    length = len(a)\n",
    "    prefix_sum = [0] * (length + 1)\n",
    "\n",
    "    for i in range(1, length + 1):\n",
    "        prefix_sum[i] = prefix_sum[i - 1] + a[i - 1]\n",
    "\n",
    "    return prefix_sum\n",
    "\n",
    "\n",
    "def get_range_sum_inclusively(prefix_array, left, right):\n",
    "    return prefix_array[right] - prefix_array[left - 1]\n",
    "\n",
    "\n",
    "n, m = map(int, input().split())\n",
    "a = list(map(int, input().split()))\n",
    "\n",
    "prefix_sum = get_prefix_array(a)\n",
    "\n",
    "x_y_tuple_list = []\n",
    "for _ in range(m):\n",
    "    x_y_tuple_list.append(tuple(map(int, input().split())))\n",
    "\n",
    "for (x, y) in x_y_tuple_list:\n",
    "    print(get_range_sum_inclusively(prefix_sum, x, y))\n",
    "\n",
    "# assert get_prefix_array(a) == [0, 1, 3, 6, 10, 15]\n",
    "# assert get_range_sum_inclusively(prefix_sum, 1, 5) == 15\n",
    "# assert get_range_sum_inclusively(prefix_sum, 2, 4) == 9\n",
    "# assert get_range_sum_inclusively(prefix_sum, 3, 5) == 12\n",
    "# assert get_range_sum_inclusively(prefix_sum, 1, 2) == 3"
   ]
  },
  {
   "cell_type": "markdown",
   "id": "28f192a2-aca6-49ae-ac44-84da06e58964",
   "metadata": {
    "tags": []
   },
   "source": [
    "## Количество нулей на интервале"
   ]
  },
  {
   "cell_type": "markdown",
   "id": "2aa192d4-6ce4-45ae-b011-f043de59563c",
   "metadata": {},
   "source": [
    "Реализуйте структуру данных для эффективного вычисления количества нулей в отрезке массива.\n",
    "\n",
    "**Input data**\n",
    "В первой строке вводится одно натуральное число N (1 ≤ N ≤ 100000) — количество чисел в массиве.\n",
    "\n",
    "Во второй строке вводятся N чисел от 0 до 100000 — элементы массива.\n",
    "\n",
    "В третьей строке вводится одно натуральное число K (1 ≤ K ≤ 30000) — количество запросов на вычисление количества нулей.\n",
    "\n",
    "В следующих K строках вводится по два числа — номера левого и правого элементов отрезка массива (считается, что элементы массива нумеруются с единицы).\n",
    "\n",
    "**Output data**\n",
    "Для каждого запроса выведите количество нулей на соответствующем участке массива. Числа выводите в одну строку через пробел."
   ]
  },
  {
   "cell_type": "code",
   "execution_count": 8,
   "id": "60682ee6-383e-4518-80f2-f486c2838533",
   "metadata": {},
   "outputs": [
    {
     "name": "stdout",
     "output_type": "stream",
     "text": [
      " 5\n",
      " 0 0 0 0 2\n",
      " 2\n",
      " 2 3\n",
      " 2 5\n",
      "2\n",
      "3\n"
     ]
    }
   ],
   "source": [
    "def get_prefix_array(a):\n",
    "    length = len(a)\n",
    "    prefix_count_zero = [0] * (length + 1)\n",
    "    cum_counter = 0\n",
    "\n",
    "    for i in range(1, length + 1):\n",
    "        cum_counter += 1 if a[i - 1] == 0 else 0\n",
    "        prefix_count_zero[i] = cum_counter\n",
    "\n",
    "    return prefix_count_zero\n",
    "\n",
    "\n",
    "def get_zero_counts(prefix_array, left, right):\n",
    "    return prefix_array[right] - prefix_array[left - 1]\n",
    "\n",
    "\n",
    "n = int(input())\n",
    "a = list(map(int, input().split()))\n",
    "k = int(input())\n",
    "\n",
    "prefix_count_zero = get_prefix_array(a)\n",
    "\n",
    "l_r_tuple_list = []\n",
    "for _ in range(k):\n",
    "    l_r_tuple_list.append(tuple(map(int, input().split())))\n",
    "\n",
    "for (l, r) in l_r_tuple_list:\n",
    "    print(get_zero_counts(prefix_count_zero, l, r))\n",
    "\n",
    "# assert get_prefix_array(a) == [0, 1, 3, 6, 10, 15]\n",
    "# assert get_range_sum_inclusively(prefix_sum, 1, 5) == 15\n",
    "# assert get_range_sum_inclusively(prefix_sum, 2, 4) == 9\n",
    "# assert get_range_sum_inclusively(prefix_sum, 3, 5) == 12\n",
    "# assert get_range_sum_inclusively(prefix_sum, 1, 2) == 3"
   ]
  },
  {
   "cell_type": "markdown",
   "id": "ed76d41c-4c9d-479c-aaaa-e3a717c2ac91",
   "metadata": {
    "tags": []
   },
   "source": [
    "## Сумма в прямоугольнике"
   ]
  },
  {
   "cell_type": "markdown",
   "id": "d1b171e2-5f21-4e2e-b872-29f2c1c1be65",
   "metadata": {},
   "source": [
    "У Олега есть матрица целых чисел N × M. Его очень часто просят узнать сумму всех элементов матрицы в прямоугольнике с левым верхним углом $(x_1 , y_1)$ и правым нижним  $(x_2, y_2)$. Помогите ему в этом.\n",
    "\n",
    "**Input data**\n",
    "В первой строке находится числа N, M размеры матрицы (1 ≤ N, M ≤ 1000) и K - количество запросов (1 ≤ K ≤ 100000). Каждая из следующих N строк содержит по M чисел - элементы соответствующей строки матрицы (по модулю не превосходят 1000). Последующие K строк содержат по 4 целых числа, разделенных пробелом - $x_1$ $y_1$ $x_2$ $y_2$ --- запрос на сумму элементов матрице в прямоугольнике ($1 ≤ x_1 ≤ x_2 ≤ N$, $1 ≤ y_1 ≤ y_2 ≤ M$; $x_1$ и $x_2$ — это номера строк, а $y_1$ и $y_2$ — столбцов)\n",
    "\n",
    "**Output data**\n",
    "Для каждого запроса на отдельной строке выведите его результат - сумму всех чисел в элементов матрице в прямоугольнике $(x_1, y_1)$, $(x_2, y_2)$"
   ]
  },
  {
   "cell_type": "code",
   "execution_count": 2,
   "id": "3496bee9-32d5-4a32-9ce1-444b217d4dfc",
   "metadata": {},
   "outputs": [
    {
     "name": "stdout",
     "output_type": "stream",
     "text": [
      "28\n",
      "21\n"
     ]
    }
   ],
   "source": [
    "def get_prefix_array_matrix(a):\n",
    "    num_rows = len(a) + 1\n",
    "    num_cols = len(a[0]) + 1\n",
    "    prefix_array = [[0 for x in range(num_cols)] for y in range(num_rows)]\n",
    "    for i in range(1, num_rows):\n",
    "        for j in range(1, num_cols):\n",
    "            prefix_array[i][j] = (\n",
    "                a[i - 1][j - 1]\n",
    "                + prefix_array[i - 1][j]\n",
    "                + prefix_array[i][j - 1]\n",
    "                - prefix_array[i - 1][j - 1]\n",
    "            )\n",
    "\n",
    "    return prefix_array\n",
    "\n",
    "\n",
    "def get_range_sum_inclusively(prefix_array, x1, y1, x2, y2):\n",
    "    return (\n",
    "        prefix_array[x2][y2]\n",
    "        - prefix_array[x1 - 1][y2]\n",
    "        - prefix_array[x2][y1 - 1]\n",
    "        + prefix_array[x1 - 1][y1 - 1]\n",
    "    )\n",
    "\n",
    "\n",
    "n, m, k = map(int, input().split())\n",
    "a = []\n",
    "for _ in range(n):\n",
    "    a.append(list(map(int, input().split())))\n",
    "\n",
    "pref = get_prefix_array_matrix(a)\n",
    "\n",
    "x_y_tuple_list = []\n",
    "for _ in range(k):\n",
    "    x_y_tuple_list.append(tuple(map(int, input().split())))\n",
    "\n",
    "for (x1, y1, x2, y2) in x_y_tuple_list:\n",
    "    print(get_range_sum_inclusively(pref, x1, y1, x2, y2))\n",
    "\n",
    "# assert get_range_sum_inclusively(a, 2, 2, 3, 3) == 28\n",
    "# assert get_range_sum_inclusively(a, 1, 1, 2, 3) == 31"
   ]
  },
  {
   "cell_type": "markdown",
   "id": "5eb96087-a435-4d9c-bb3d-6803486f5496",
   "metadata": {},
   "source": [
    "# Рекурсия"
   ]
  },
  {
   "cell_type": "markdown",
   "id": "d839b9e9-9f05-4dab-bc2d-d86b6e5dbd47",
   "metadata": {
    "tags": []
   },
   "source": [
    "## Количество нулей на интервале"
   ]
  },
  {
   "cell_type": "markdown",
   "id": "4c3c41af-5fca-4b01-ac3d-5873336a3b2f",
   "metadata": {},
   "source": [
    "Последовательностью Фибоначчи называется последовательность чисел a0, a1, ..., an, ..., где a0 = 0, a1 = 1, ak = ak-1 + ak-2 (k > 1).\n",
    "Требуется найти N-е число Фибоначчи.\n",
    "\n",
    "Примечания: \n",
    " - В программе запрещается использовать циклы.\n",
    " - Максимальное время работы на одном тесте:\t1 секунда\n",
    " \n",
    "**Input data**\n",
    "На вход программы поступает целое неотрицательное число N (N ≤ 30).\n",
    "\n",
    "**Output data**\n",
    "Требуется вывести N-е число Фибоначчи."
   ]
  },
  {
   "cell_type": "code",
   "execution_count": 1,
   "id": "057427b2-2b4b-46d7-921b-fea19cd890b6",
   "metadata": {},
   "outputs": [
    {
     "name": "stdout",
     "output_type": "stream",
     "text": [
      " 5\n",
      "5\n"
     ]
    }
   ],
   "source": [
    "def get_fib(n):\n",
    "    if n <= 1:\n",
    "        return n\n",
    "    else:\n",
    "        return get_fib(n - 1) + get_fib(n - 2)\n",
    "\n",
    "\n",
    "n = int(input())\n",
    "\n",
    "fib_n = get_fib(n)\n",
    "\n",
    "print(fib_n)\n",
    "\n",
    "assert get_fib(0) == 0\n",
    "assert get_fib(1) == 1\n",
    "assert get_fib(2) == 1\n",
    "assert get_fib(6) == 8\n",
    "assert get_fib(9) == 34"
   ]
  },
  {
   "cell_type": "markdown",
   "id": "1ec30ba0-d84e-48be-97c2-5437c0d5640a",
   "metadata": {
    "tags": []
   },
   "source": [
    "## НОД (рекурсивный вариант)"
   ]
  },
  {
   "cell_type": "markdown",
   "id": "5b36befb-e2a7-45d8-b24a-9ef29ae8693f",
   "metadata": {},
   "source": [
    "Даны два натуральных числа A и B. Требуется найти их наибольший общий делитель.  \n",
    "\n",
    "Примечания:\n",
    " - В программе запрещается использовать циклы.\n",
    " - Максимальное время работы на одном тесте:\t1 секунда\n",
    "\n",
    "**Input data**\n",
    "Вводятся два натуральных числа A и B (A, B ≤ $10^9$).\n",
    "\n",
    "**Output data**\n",
    "Требуется вывести НОД A и B."
   ]
  },
  {
   "cell_type": "code",
   "execution_count": 10,
   "id": "c04150a4-4a71-4d2f-89eb-63cb9ecd150a",
   "metadata": {},
   "outputs": [
    {
     "name": "stdout",
     "output_type": "stream",
     "text": [
      " 12 42\n",
      "6\n"
     ]
    }
   ],
   "source": [
    "def get_gcd_rec(a, b):\n",
    "    if b == 0:\n",
    "        return a\n",
    "    else:\n",
    "        return get_gcd_rec(b, a % b)\n",
    "\n",
    "\n",
    "a, b = map(int, input().split())\n",
    "\n",
    "gcd = get_gcd_rec(a, b)\n",
    "\n",
    "print(gcd)\n",
    "\n",
    "assert get_gcd_rec(2, 1) == 1\n",
    "assert get_gcd_rec(1, 2) == 1\n",
    "assert get_gcd_rec(5, 3) == 1\n",
    "assert get_gcd_rec(5, 10) == 5"
   ]
  },
  {
   "cell_type": "markdown",
   "id": "efd1181e-e1bd-434f-8a3b-4a88b9316a2f",
   "metadata": {
    "tags": []
   },
   "source": [
    "## Строка и скобки"
   ]
  },
  {
   "cell_type": "markdown",
   "id": "8082800c-1fbc-48fc-ab4d-adc93d75ae64",
   "metadata": {},
   "source": [
    "Дана строка, содержащая только английские буквы (большие и маленькие). Добавить открывающиеся и закрывающиеся скобки по следующему образцу: example -> e(x(a(m)p)l)e. \n",
    "До середины добавляются открывающиеся скобки, после середины – закрывающиеся. В случае, когда длина строки четна, в скобках, расположенных в середине, должно быть 2 символа: card -> c(ar)d, но не c(a()r)d.\n",
    "\n",
    "**Input data**\n",
    "Вводится строка ненулевой длины. Известно также, что длина строки не превышает 1000 знаков.\n",
    "\n",
    "**Output data**\n",
    "Вывести строку, которая получится после добавления скобок."
   ]
  },
  {
   "cell_type": "code",
   "execution_count": 2,
   "id": "f28d9a12-c547-43d3-ba2c-c58208d4b035",
   "metadata": {},
   "outputs": [
    {
     "name": "stdin",
     "output_type": "stream",
     "text": [
      " chicken\n"
     ]
    },
    {
     "name": "stdout",
     "output_type": "stream",
     "text": [
      "c(h(i(c)k)e)n\n"
     ]
    }
   ],
   "source": [
    "def add_brackets(s):\n",
    "    if len(s) <= 2:\n",
    "        return s\n",
    "    else:\n",
    "        return s[0] + \"(\" + add_brackets(s[1:-1]) + \")\" + s[-1]\n",
    "\n",
    "\n",
    "str_ = input()\n",
    "\n",
    "new_str = add_brackets(str_)\n",
    "\n",
    "print(new_str)\n",
    "\n",
    "assert add_brackets(\"card\") == \"c(ar)d\", f\"The result is {add_brackets('card')}\"\n",
    "assert (\n",
    "    add_brackets(\"example\") == \"e(x(a(m)p)l)e\"\n",
    "), f\"The result is {add_brackets('example')}\"\n",
    "assert (\n",
    "    add_brackets(\"LItBeoFLcSGBOFQxMHoIuDDWcqcVgkcRoAeocXO\")\n",
    "    == \"L(I(t(B(e(o(F(L(c(S(G(B(O(F(Q(x(M(H(o(I)u)D)D)W)c)q)c)V)g)k)c)R)o)A)e)o)c)X)O\"\n",
    "), f\"The result is {add_brackets('LItBeoFLcSGBOFQxMHoIuDDWcqcVgkcRoAeocXO')}\""
   ]
  },
  {
   "cell_type": "code",
   "execution_count": 2,
   "id": "4830ed2a-c399-4853-a5e4-b8356662c9a8",
   "metadata": {},
   "outputs": [
    {
     "name": "stdin",
     "output_type": "stream",
     "text": [
      " example\n"
     ]
    }
   ],
   "source": [
    "str_ = input()"
   ]
  },
  {
   "cell_type": "code",
   "execution_count": null,
   "id": "9be85310-f933-4ea7-bb1b-a74db1cf3bb6",
   "metadata": {},
   "outputs": [],
   "source": []
  },
  {
   "cell_type": "markdown",
   "id": "fcb00c14-f39f-4d36-a781-17f56b3b53f3",
   "metadata": {
    "tags": []
   },
   "source": [
    "## ABACABA"
   ]
  },
  {
   "cell_type": "markdown",
   "id": "b9839e59-23b2-46b3-b82e-42b02d20c354",
   "metadata": {},
   "source": [
    "Строки ABACABA формируются по следующему правилу. Первая строка — это просто \"A\" (без кавычек). Каждая последующая строка получается так: берется предыдущая строка, к ней приписывается первая буква, которая в ней не встречается, и потом еще раз предыдущая строка. Соответственно, вторая строка получается \"A\" + \"B\" + \"A\" = \"ABA\", третья строка — \"ABA\" + \"C\" + \"ABA\" = \"ABACABA\", четвертая — \"ABACABA\" + \"D\" + \"ABACABA\" = \"ABACABADABACABA\" и т.д.\n",
    "\n",
    "Выведите строку по ее номеру. При решении этой задачи нельзя пользоваться циклами.\n",
    "\n",
    "**Input data**\n",
    "Первая строка входного файла содержит натуральное число n (1 ≤ n ≤ 6) — номер требуемой строки.\n",
    "\n",
    "**Output data**\n",
    "В выходной файл выведите искомую строку"
   ]
  },
  {
   "cell_type": "code",
   "execution_count": 17,
   "id": "4e9b2635-280c-4d9e-a4b9-62ece88f2e0c",
   "metadata": {},
   "outputs": [
    {
     "name": "stdout",
     "output_type": "stream",
     "text": [
      " 3\n",
      "ABACABA\n"
     ]
    }
   ],
   "source": [
    "def get_string(n):\n",
    "    letters = \"ABCDEF\"\n",
    "    if n == 1:\n",
    "        return \"A\"\n",
    "    else:\n",
    "        return get_string(n - 1) + letters[n - 1] + get_string(n - 1)\n",
    "\n",
    "\n",
    "n = int(input())\n",
    "str_ = get_string(n)\n",
    "\n",
    "print(str_)\n",
    "\n",
    "assert get_string(1) == \"A\"\n",
    "assert get_string(2) == \"ABA\"\n",
    "assert get_string(3) == \"ABACABA\""
   ]
  },
  {
   "cell_type": "code",
   "execution_count": null,
   "id": "0cf5e56c-8f1d-4dcf-9047-f666cb33349d",
   "metadata": {},
   "outputs": [],
   "source": []
  }
 ],
 "metadata": {
  "interpreter": {
   "hash": "5acf0376ddefa89f0f90d79cf9651f12111c46db01e8a73a8bd54c13ffa9735d"
  },
  "kernelspec": {
   "display_name": "algoprog",
   "language": "python",
   "name": "algoprog"
  },
  "language_info": {
   "codemirror_mode": {
    "name": "ipython",
    "version": 3
   },
   "file_extension": ".py",
   "mimetype": "text/x-python",
   "name": "python",
   "nbconvert_exporter": "python",
   "pygments_lexer": "ipython3",
   "version": "3.8.10"
  }
 },
 "nbformat": 4,
 "nbformat_minor": 5
}
