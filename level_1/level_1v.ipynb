{
 "cells": [
  {
   "cell_type": "markdown",
   "id": "ba764644-acc2-4f1a-8eb9-c40d45b03360",
   "metadata": {},
   "source": [
    "# Advanced arithmetic operations tasks"
   ]
  },
  {
   "cell_type": "markdown",
   "id": "f4cf82c2-2a34-4126-a51d-95bcb53e9737",
   "metadata": {
    "tags": []
   },
   "source": [
    "## Desks"
   ]
  },
  {
   "cell_type": "markdown",
   "id": "133b46c4-9cf4-4ff7-992f-c3e6cfd6c7c1",
   "metadata": {},
   "source": [
    "At some school, they decided to recruit three new classes and equip classrooms for them with new desks. Two students can sit at each desk. The number of students in each of the three classes is known. Output the least number of desks to be purchased for them.  \n",
    "\n",
    "**Input data**\n",
    "The program receives as input three natural numbers: the number of students in each of the three classes.\n",
    "\n",
    "**Output data**\n",
    "Output the answer to the problem."
   ]
  },
  {
   "cell_type": "code",
   "execution_count": 10,
   "id": "9308b28e-d86b-475d-a61c-4efa95a7fc35",
   "metadata": {},
   "outputs": [
    {
     "name": "stdin",
     "output_type": "stream",
     "text": [
      " 20\n",
      " 21\n",
      " 22\n"
     ]
    },
    {
     "name": "stdout",
     "output_type": "stream",
     "text": [
      "32\n"
     ]
    }
   ],
   "source": [
    "n1 = int(input())\n",
    "n2 = int(input())\n",
    "n3 = int(input())\n",
    "\n",
    "n_list = [n1, n2, n3]\n",
    "desks = sum([n // 2 + n % 2 for n in n_list])\n",
    "\n",
    "print(desks)"
   ]
  },
  {
   "cell_type": "markdown",
   "id": "055986ac-bede-4e41-9d30-60c96f4b651c",
   "metadata": {
    "tags": []
   },
   "source": [
    "## Next even"
   ]
  },
  {
   "cell_type": "markdown",
   "id": "e07b1ae3-693f-4653-8b5a-9f75d5b3296a",
   "metadata": {},
   "source": [
    "An integer `n` is given. Print the next even number. When solving this problem, you can not use a conditional if statement and loops. \n",
    "\n",
    "**Input data**\n",
    "Enter a natural number.\n",
    "\n",
    "**Output data**\n",
    "Output the answer to the problem."
   ]
  },
  {
   "cell_type": "code",
   "execution_count": 28,
   "id": "d926339d-a636-4d2e-86a4-366cd20b99a7",
   "metadata": {},
   "outputs": [
    {
     "name": "stdin",
     "output_type": "stream",
     "text": [
      " 26\n"
     ]
    },
    {
     "name": "stdout",
     "output_type": "stream",
     "text": [
      "28\n"
     ]
    }
   ],
   "source": [
    "n = int(input())\n",
    "\n",
    "res = (n // 2 + 1) * 2\n",
    "\n",
    "print(res)"
   ]
  },
  {
   "cell_type": "markdown",
   "id": "a8d85d54-9bf5-4b90-8520-2bc5d2a0121f",
   "metadata": {},
   "source": [
    "# Advanced if operator tasks"
   ]
  },
  {
   "cell_type": "markdown",
   "id": "c1eda6b7-ef4a-4bd7-a6e2-89ead8145210",
   "metadata": {
    "tags": []
   },
   "source": [
    "## Rook move"
   ]
  },
  {
   "cell_type": "markdown",
   "id": "f851d2ae-f9af-4829-beba-0aa39441b367",
   "metadata": {},
   "source": [
    "The field of the chessboard is defined by a pair of numbers (a, b), each from 1 to 8, the first number specifies the column number, the second - the row number. Two cells are given. Determine if the rook can move from the first cell to the second in one move.\n",
    "\n",
    "**Input data**\n",
    "Given 4 integers from 1 to 8 each, the first two define the starting cell, the second two define the final cell. The start and end cells do not match.\n",
    "\n",
    "**Output data**\n",
    "The program should output `YES` if it is possible to move the rook from the first cell to the second one, or `NO` otherwise."
   ]
  },
  {
   "cell_type": "code",
   "execution_count": 6,
   "id": "5df59d90-95e7-4ada-b8dd-2cbd72752ceb",
   "metadata": {},
   "outputs": [
    {
     "name": "stdin",
     "output_type": "stream",
     "text": [
      " 1\n",
      " 2\n",
      " 1\n",
      " 5\n"
     ]
    }
   ],
   "source": [
    "source_cell = (int(input()), int(input()))\n",
    "target_cell = (int(input()), int(input()))\n",
    "\n",
    "is_possible = 'YES'\n",
    "\n",
    "if source_cell[0] != target_cell[0] and source_cell[1] != target_cell[1]:\n",
    "    is_possible = 'NO'\n",
    "    \n",
    "print(is_possible)"
   ]
  },
  {
   "cell_type": "markdown",
   "id": "bb9d70f9-3504-40b8-b183-d05506d9053f",
   "metadata": {
    "tags": []
   },
   "source": [
    "## Chocolate bar"
   ]
  },
  {
   "cell_type": "markdown",
   "id": "bbd1f71d-fe7c-4ceb-8701-2850a31788a3",
   "metadata": {},
   "source": [
    "It is required to determine whether it is possible to break off k slices from a chocolate bar of size n × m if it is allowed to make one break in a straight line between the slices (that is, to break a chocolate bar into two rectangles).  \n",
    "\n",
    "**Input data**\n",
    "3 natural numbers are introduced: n, m and k; k is not equal to n × m. It is guaranteed that the number of slices in a chocolate bar does not exceed 30000.  \n",
    "\n",
    "**Output data**\n",
    "The program should print the word YES if it is possible to break off the specified number of slices, otherwise print the word NO.  "
   ]
  },
  {
   "cell_type": "code",
   "execution_count": 1,
   "id": "7bacc079-a5ef-4bcf-9a97-7ed19977a7ad",
   "metadata": {},
   "outputs": [
    {
     "name": "stdin",
     "output_type": "stream",
     "text": [
      " 3\n",
      " 2\n",
      " 4\n"
     ]
    }
   ],
   "source": [
    "n = int(input())\n",
    "m = int(input())\n",
    "k = int(input())\n",
    "\n",
    "left = n * m - k\n",
    "\n",
    "if left % n == 0 or left % m == 0:\n",
    "    print(\"YES\")\n",
    "else:\n",
    "    print(\"NO\")"
   ]
  },
  {
   "cell_type": "markdown",
   "id": "d7529892-6364-44e8-bf93-6bfa027e446e",
   "metadata": {
    "tags": []
   },
   "source": [
    "## Ice cream"
   ]
  },
  {
   "cell_type": "markdown",
   "id": "de32d188-5aac-4ce7-8c2b-9a0704f6de76",
   "metadata": {},
   "source": [
    "Ice cream cafes sell `three` scoops and `five` scoops. Is it possible to buy exactly `k` scoops of ice cream?  \n",
    "\n",
    "**Input data**\n",
    "The number `k` is entered (integer, positive)  \n",
    "\n",
    "**Output data**\n",
    "The program should print the word `YES` if under such conditions it is possible to collect exactly `k` balls (no more and no less), otherwise print `NO`."
   ]
  },
  {
   "cell_type": "code",
   "execution_count": null,
   "id": "1728254f-2b36-469d-9f4f-810a9561287a",
   "metadata": {},
   "outputs": [
    {
     "name": "stdin",
     "output_type": "stream",
     "text": [
      " 12\n"
     ]
    },
    {
     "name": "stdout",
     "output_type": "stream",
     "text": [
      "YES\n"
     ]
    }
   ],
   "source": [
    "k = int(input())\n",
    "\n",
    "if k not in [1, 2, 4, 7]:\n",
    "    print(\"YES\")\n",
    "else:\n",
    "    print(\"NO\")"
   ]
  },
  {
   "cell_type": "markdown",
   "id": "58723bc2-3044-454c-909d-a392b358ac2f",
   "metadata": {
    "tags": []
   },
   "source": [
    "## Cows"
   ]
  },
  {
   "cell_type": "markdown",
   "id": "b01fc010-ae45-4e50-a520-e4650f5171a9",
   "metadata": {},
   "source": [
    "For the given number `n`, complete the phrase \"There is grazing in the meadow ...\" with one of the possible continuations: \"`n` cows\", \"`n` cows\", \"`n` cows\", inclining the word \"cow\" correctly.  \n",
    "\n",
    "**Input data**\n",
    "Given a number `n` (`n` < 100).  \n",
    "\n",
    "**Output data**\n",
    "The program should display the entered number n and one of the words (in Latin): `korov`, `korova` or `korovy`, for example, `1 korova`, `2 korovy`, `5 korov`. There must be exactly one space between the number and the word."
   ]
  },
  {
   "cell_type": "code",
   "execution_count": 50,
   "id": "f449abbe-301d-4c77-a093-9e059303fa2d",
   "metadata": {},
   "outputs": [
    {
     "name": "stdin",
     "output_type": "stream",
     "text": [
      " 5\n"
     ]
    },
    {
     "name": "stdout",
     "output_type": "stream",
     "text": [
      "5 korov\n"
     ]
    }
   ],
   "source": [
    "n = int(input())\n",
    "base_string = f'{n} korov'\n",
    "final_string = base_string\n",
    "\n",
    "if n < 11 or n > 20:\n",
    "    if 2 <= n % 10 <= 4:\n",
    "        final_string = base_string + 'y'\n",
    "    elif n % 10 == 1:\n",
    "        final_string = base_string + 'a'\n",
    "\n",
    "print(final_string)"
   ]
  },
  {
   "cell_type": "markdown",
   "id": "6efb2570-ee44-4259-a023-f9c5f7b0daf7",
   "metadata": {
    "tags": []
   },
   "source": [
    "## Saint Francis Xavier's Day"
   ]
  },
  {
   "cell_type": "markdown",
   "id": "75f5443f-c993-46da-ad31-5fecbd7bbf13",
   "metadata": {},
   "source": [
    "Today in the Indian town of Old Goa celebrate the Day of St. Francis Xavier. Saint Francis Xavier - a missionary, a member of the Jesuit order, is considered the greatest Catholic missionary of modern times.\n",
    "\n",
    "The relics of St. Francis Xavier - the spiritual patron of Indian Christians - rest in Old Goa in the famous Catholic church - the Bom Jesus Basilica. *Since the construction of the temple in `1605`, once every ten years, the relics of the saint are exhibited for public viewing.*\n",
    "\n",
    "The Indian peasant Virmaram is a very devout person, he did not miss the opportunity to touch the holy relics. Knowing the years of his life, determine how many times he could touch the holy relics (it is believed that in the year of his birth he could not do this, but in the year of his death he could).\n",
    "\n",
    "**Input data**\n",
    "Two natural numbers are entered - the year of birth and the year of death. Numbers are separated by spaces. Both numbers do not exceed `2000`. It is guaranteed that the year of death is strictly greater than the year of birth.  \n",
    "\n",
    "**Output data**\n",
    "The program should determine how many times the peasant could touch the holy relics, and output the answer - one number."
   ]
  },
  {
   "cell_type": "code",
   "execution_count": 2,
   "id": "ad7e64d0-e57b-4b55-b54f-dd7bcecbc76b",
   "metadata": {},
   "outputs": [
    {
     "name": "stdin",
     "output_type": "stream",
     "text": [
      " 1605 1645\n"
     ]
    },
    {
     "name": "stdout",
     "output_type": "stream",
     "text": [
      "4\n"
     ]
    }
   ],
   "source": [
    "birth_year, death_year = map(float, input().split())\n",
    "beginning_date = 1605\n",
    "\n",
    "birth_diff = birth_year - beginning_date\n",
    "birth_diff = birth_diff if birth_diff >= 0 else -1\n",
    "# -1 indicates that the peasant was born before the church was built\n",
    "# to account for at least one time that he could touch the relics\n",
    "\n",
    "death_diff = death_year - beginning_date\n",
    "\n",
    "if death_diff < 0:\n",
    "    counts = 0\n",
    "else:\n",
    "    counts = int(death_diff // 10 - birth_diff // 10)\n",
    "\n",
    "print(counts)"
   ]
  },
  {
   "cell_type": "markdown",
   "id": "9f722564-3485-45bd-b96c-d3c3f2535b02",
   "metadata": {
    "tags": []
   },
   "source": [
    "## Maximum array element"
   ]
  },
  {
   "cell_type": "markdown",
   "id": "1e3e53b3-081f-486a-9b88-d0d233640ba9",
   "metadata": {},
   "source": [
    "Write a program that includes the value of the maximum element of an array.\n",
    "\n",
    "Note: It's very hard to type multiple numbers from one line in python without arrays. Therefore, in python, you can use an array here, but then you must have one pass through the array.\n",
    "\n",
    "**Input data**\n",
    "First of all, one natural number N is given, not exceeding 1000 - an array.  \n",
    "In the second row, N numbers are used - array elements (integer numbers not exceeding 1000 in modulo).  \n",
    "\n",
    "**Output data**\n",
    "Output one number - the value of the element in the array."
   ]
  },
  {
   "cell_type": "code",
   "execution_count": 9,
   "id": "9bf9fe4d-d23e-4df5-a221-91eb1aa7d15d",
   "metadata": {},
   "outputs": [
    {
     "name": "stdin",
     "output_type": "stream",
     "text": [
      " 5\n",
      " 1 2 3 4 5\n"
     ]
    },
    {
     "name": "stdout",
     "output_type": "stream",
     "text": [
      "5\n"
     ]
    }
   ],
   "source": [
    "n = int(input())\n",
    "arr = map(int, input().split())\n",
    "max_value = -1000\n",
    "\n",
    "for val in arr:\n",
    "    if val > max_value:\n",
    "        max_value = val\n",
    "        \n",
    "print(max_value)"
   ]
  },
  {
   "cell_type": "markdown",
   "id": "faa077e8-21c2-454d-b33c-9ac48841aa20",
   "metadata": {
    "tags": []
   },
   "source": [
    "## Number of elements equal to the maximum"
   ]
  },
  {
   "cell_type": "markdown",
   "id": "614df09e-17fa-4144-8282-ac5f4f95f77c",
   "metadata": {},
   "source": [
    "The sequence consists of natural numbers and ends with the number 0. In total, no more than 10,000 numbers are entered (not counting the final number 0). Determine how many elements of this sequence are equal to its largest element. The numbers following the number 0 do not need to be read.  \n",
    "\n",
    "**Input data**\n",
    "A sequence of integers is entered, ending with the number 0 (the number 0 itself is not included in the sequence).  \n",
    "\n",
    "**Output data**\n",
    "Output the answer to the problem."
   ]
  },
  {
   "cell_type": "code",
   "execution_count": 18,
   "id": "aad6057a-f73c-4861-96c7-97f117316146",
   "metadata": {},
   "outputs": [
    {
     "name": "stdin",
     "output_type": "stream",
     "text": [
      " 1\n",
      " 3\n",
      " 3\n",
      " 2\n",
      " 0\n"
     ]
    },
    {
     "name": "stdout",
     "output_type": "stream",
     "text": [
      "2\n"
     ]
    }
   ],
   "source": [
    "d = {}\n",
    "max_val = - 1\n",
    "val = int(input())\n",
    "while val != 0:\n",
    "    d[val] = d[val] + 1 if val in d else 1\n",
    "    if val > max_val:\n",
    "        max_val = val\n",
    "    val = int(input())\n",
    "\n",
    "print(d[max_val])"
   ]
  },
  {
   "cell_type": "markdown",
   "id": "2f2e0c0c-c33d-4ad4-82d8-d79e9c43f942",
   "metadata": {
    "tags": []
   },
   "source": [
    "## GNCHE-1"
   ]
  },
  {
   "cell_type": "markdown",
   "id": "b20eb7e6-322e-4359-8add-abc37b7fe609",
   "metadata": {},
   "source": [
    "\"GNCHE-1\" is a complex electronic device that outputs every second the next number in the sequence 1, 2, 2, 3, 3, 3, 4, 4, 4, 4, 5... Due to the high cost of electronic components, you were instructed to develop an emulator for this devices.\n",
    "\n",
    "**Input data**\n",
    "Given the number of seconds (from 1 to 1000000) that the generator runs after being turned on.  \n",
    "\n",
    "**Output data**\n",
    "The result of the generator.  "
   ]
  },
  {
   "cell_type": "code",
   "execution_count": 21,
   "id": "fdf59f1a-75c8-4f03-9579-124e88da2bfe",
   "metadata": {},
   "outputs": [
    {
     "name": "stdin",
     "output_type": "stream",
     "text": [
      " 5\n"
     ]
    },
    {
     "name": "stdout",
     "output_type": "stream",
     "text": [
      "1 2 2 3 3 "
     ]
    }
   ],
   "source": [
    "n = int(input())\n",
    "counter = 0\n",
    "\n",
    "for i in range(1, n + 1):\n",
    "    for j in range(i):\n",
    "        print(i, end = \" \")\n",
    "        counter += 1\n",
    "        if counter == n:\n",
    "            break\n",
    "    if counter == n:\n",
    "        break"
   ]
  },
  {
   "cell_type": "markdown",
   "id": "d80cb859-c947-47a3-b4fd-149f0954e8f7",
   "metadata": {
    "tags": []
   },
   "source": [
    "## GNCHE-1"
   ]
  },
  {
   "cell_type": "markdown",
   "id": "7c61c33c-ce23-497d-982a-cadcb16c976d",
   "metadata": {},
   "source": [
    "\"GNCHE-1\" is a complex electronic device that outputs every second the next number in the sequence 1, 2, 2, 3, 3, 3, 4, 4, 4, 4, 5... Due to the high cost of electronic components, you were instructed to develop an emulator for this devices.\n",
    "\n",
    "**Input data**\n",
    "Given the number of seconds (from 1 to 1000000) that the generator runs after being turned on.  \n",
    "\n",
    "**Output data**\n",
    "The result of the generator.  "
   ]
  },
  {
   "cell_type": "code",
   "execution_count": 21,
   "id": "c6f20efe-3c13-4238-b947-bad18c46e709",
   "metadata": {},
   "outputs": [
    {
     "name": "stdin",
     "output_type": "stream",
     "text": [
      " 5\n"
     ]
    },
    {
     "name": "stdout",
     "output_type": "stream",
     "text": [
      "1 2 2 3 3 "
     ]
    }
   ],
   "source": [
    "n = int(input())\n",
    "counter = 0\n",
    "\n",
    "for i in range(1, n + 1):\n",
    "    for j in range(i):\n",
    "        print(i, end = \" \")\n",
    "        counter += 1\n",
    "        if counter == n:\n",
    "            break\n",
    "    if counter == n:\n",
    "        break"
   ]
  },
  {
   "cell_type": "markdown",
   "id": "4981650e-3cd6-469a-92a0-8856772d20af",
   "metadata": {},
   "source": [
    "Next descriptions of tasks will be in Russian. "
   ]
  },
  {
   "cell_type": "markdown",
   "id": "29612379-ae1e-462e-b39a-ecf373c52aa1",
   "metadata": {},
   "source": [
    "## Шеренга"
   ]
  },
  {
   "cell_type": "markdown",
   "id": "a7b675e0-4a75-4cbd-bb74-4551625253a9",
   "metadata": {},
   "source": [
    "Петя впервые пришел на урок физкультуры в новой школе. Перед началом урока ученики выстраиваются по росту, в порядке невозрастания. Напишите программу, которая определит на какое место в шеренге Пете нужно встать, чтобы не нарушить традицию, если заранее известен рост каждого ученика и эти данные уже расположены по невозрастанию (то есть каждое следующее число не больше предыдущего). Если в классе есть несколько учеников с таким же ростом, как у Пети, то программа должна расположить его после них.\n",
    "\n",
    "**Входные данные**\n",
    "Сначала задано число N — количество учеников (не считая Петю)(1 ≤ N≤ 100). Далее через пробел записаны N чисел — элементы массива. Массив состоит из натуральных чисел, не превосходящих 200 (рост учеников в сантиметрах). Затем, на новой строке, вводится рост самого Пети (тоже натуральное число не больше 200).\n",
    "\n",
    "**Выходные данные**\n",
    "Необходимо вывести единственное число - номер Пети в шеренге учеников."
   ]
  },
  {
   "cell_type": "code",
   "execution_count": 7,
   "id": "b48d7a00-0757-4aa3-a945-e3607077c2de",
   "metadata": {},
   "outputs": [
    {
     "name": "stdin",
     "output_type": "stream",
     "text": [
      " 8\n",
      " 165 163 160 160 157 157 155 154 \n",
      " 162\n"
     ]
    },
    {
     "name": "stdout",
     "output_type": "stream",
     "text": [
      "3\n"
     ]
    }
   ],
   "source": [
    "n = int(input())\n",
    "heights = map(int, input().split())\n",
    "target_hight = int(input())\n",
    "\n",
    "place = -1\n",
    "\n",
    "for i, height in enumerate(heights):\n",
    "    if target_hight > height:\n",
    "        place = i + 1\n",
    "        break\n",
    "if place == -1:\n",
    "    place = n + 1\n",
    "\n",
    "print(place)"
   ]
  },
  {
   "cell_type": "markdown",
   "id": "5c21158e-b406-4718-ac19-4fdf24e437be",
   "metadata": {
    "tags": []
   },
   "source": [
    "## Числа Фибоначчи"
   ]
  },
  {
   "cell_type": "markdown",
   "id": "cb2bd452-5359-49a5-a02f-556cf0fbe148",
   "metadata": {},
   "source": [
    "F1 = F2 = 1, Fn = Fn-1 + Fn-2, при n > 2\n",
    "\n",
    "**Input data**\n",
    "В единственной строке входных данных записано натуральное число n (1≤n≤45).\n",
    "\n",
    "**Output data**\n",
    "Вывести одно число $F_n$\n"
   ]
  },
  {
   "cell_type": "code",
   "execution_count": 9,
   "id": "c36910f2-5a8b-4332-8152-402d835629b0",
   "metadata": {},
   "outputs": [
    {
     "name": "stdin",
     "output_type": "stream",
     "text": [
      " 7\n"
     ]
    },
    {
     "name": "stdout",
     "output_type": "stream",
     "text": [
      "13\n"
     ]
    }
   ],
   "source": [
    "def fib(n):\n",
    "    fib_array = [1, 1]\n",
    "    if n in [1, 2]:\n",
    "        return 1\n",
    "    else:\n",
    "        for i in range(2, n):\n",
    "            fib_array.append(fib_array[i - 1] + fib_array[i - 2])\n",
    "        return fib_array[n - 1]\n",
    "\n",
    "n = int(input())\n",
    "print(fib(n))"
   ]
  },
  {
   "cell_type": "markdown",
   "id": "4bf95463-3c3e-4db7-b3e7-6b6d7ba94b1f",
   "metadata": {},
   "source": [
    "## Самое длинное слово"
   ]
  },
  {
   "cell_type": "markdown",
   "id": "d1f6e56b-4eca-49d9-8a2a-a46c7bf1833c",
   "metadata": {},
   "source": [
    "Дана строка, содержащая пробелы. Найдите в ней самое длинное слово, выведите  это слово и его длину. Если таких слов несколько, выведите первое из них.\n",
    "\n",
    "**Input data**\n",
    "Задана одна строка, содержащая пробелы. Слова разделены ровно одним пробелом. Пробелы в начале и конце строки допускаются.\n",
    "\n",
    "**Output data**\n",
    "Необходимо вывести самое длинное слово в строке и его длину."
   ]
  },
  {
   "cell_type": "code",
   "execution_count": 35,
   "id": "6d2a6b97-3780-4d88-a4f3-be75a55e60d5",
   "metadata": {},
   "outputs": [
    {
     "name": "stdin",
     "output_type": "stream",
     "text": [
      " stock rock big dog\n"
     ]
    },
    {
     "name": "stdout",
     "output_type": "stream",
     "text": [
      "stock\n",
      "5\n"
     ]
    }
   ],
   "source": [
    "words = input().split()\n",
    "\n",
    "lengths = [len(word) for word in words]\n",
    "max_len = max(lengths)\n",
    "max_index = lengths.index(max_len)\n",
    "max_word = words[max_index]\n",
    "\n",
    "print(max_word)\n",
    "print(max_len)"
   ]
  },
  {
   "cell_type": "markdown",
   "id": "8e7c8af1-59fd-4027-aff1-5ef8b927fc34",
   "metadata": {},
   "source": [
    "## Является ли строка палиндромом?"
   ]
  },
  {
   "cell_type": "markdown",
   "id": "e8dc4cb7-ac83-4bb2-bf11-700376308584",
   "metadata": {},
   "source": [
    "Дана строка, состоящая из строчных латинских букв и пробелов. Проверьте, является ли она палиндромом без учета пробелов (например, \"аргентина манит негра\").\n",
    "\n",
    "\n",
    "**Input data**\n",
    "На вход подается 1 строка длины не более 100, содержащая пробелы. Подряд может идти произвольное число пробелов.\n",
    "\n",
    "\n",
    "**Output data**\n",
    "Необходимо вывести `yes`, если данная строка является палиндромом, и `no` в противном случае.\n",
    "\n"
   ]
  },
  {
   "cell_type": "code",
   "execution_count": 34,
   "id": "208a97d3-a7a1-4fe5-b11b-1077ef5e4a0d",
   "metadata": {},
   "outputs": [
    {
     "name": "stdin",
     "output_type": "stream",
     "text": [
      " jack is back\n"
     ]
    },
    {
     "name": "stdout",
     "output_type": "stream",
     "text": [
      "no\n"
     ]
    }
   ],
   "source": [
    "s = \"\".join(input().split())\n",
    "\n",
    "is_palindrome = 'yes'\n",
    "string_length = len(s)\n",
    "for i in range(string_length // 2):\n",
    "    if s[i] != s[string_length - 1 - i]:\n",
    "        is_palindrome = 'no'\n",
    "        break\n",
    "\n",
    "print(is_palindrome)"
   ]
  },
  {
   "cell_type": "markdown",
   "id": "e0829073-9978-463a-9697-2d93399f6a77",
   "metadata": {},
   "source": [
    "## Метод бутерброда"
   ]
  },
  {
   "cell_type": "markdown",
   "id": "3373986f-9b15-4614-a1c2-7a8c13fe86e1",
   "metadata": {},
   "source": [
    "Секретное агентство «Super-Secret-no» решило для шифрования переписки своих сотрудников использовать «метод бутерброда». Сначала буквы слова нумеруются в таком порядке: первая буква получает номер 1, последняя буква - номер 2, вторая – номер 3, предпоследняя – номер 4, потом третья … и так для всех букв (см. рисунок). Затем все буквы записываются в шифр в порядке своих номеров. В конец зашифрованного слова добавляется знак «диез» (#), который  нельзя использовать в сообщениях.\n",
    "\n",
    "Например, слово «sandwich» зашифруется в «shacnidw#».  \n",
    "К сожалению, программист «Super-Secret-no», написал только программу шифрования и уволился. И теперь агенты не могут понять, что же они написали друг другу. Помогите им.\n",
    "\n",
    "\n",
    "**Input data**\n",
    "Вводится слово, зашифрованное методом бутерброда. Длина слова не превышает 20 букв.\n",
    "\n",
    "**Output data**\n",
    "Выведите расшифрованное слово."
   ]
  },
  {
   "cell_type": "code",
   "execution_count": 55,
   "id": "ecac9173-3667-48c7-aa20-e5af4f8f9ec2",
   "metadata": {},
   "outputs": [
    {
     "name": "stdin",
     "output_type": "stream",
     "text": [
      " Aabrrbaacda#\n"
     ]
    },
    {
     "name": "stdout",
     "output_type": "stream",
     "text": [
      "Abracadabra\n"
     ]
    }
   ],
   "source": [
    "def decode_string(s):\n",
    "    lengths_s = len(s)\n",
    "    original_s = ['0'] * lengths_s\n",
    "\n",
    "    counter_start = 0\n",
    "    counter_end = 1\n",
    "\n",
    "    for i in range(lengths_s):\n",
    "        if i % 2 == 0:\n",
    "            original_s[counter_start] = s[i]\n",
    "            counter_start += 1\n",
    "        else:\n",
    "            original_s[lengths_s - counter_end] = s[i]\n",
    "            counter_end += 1\n",
    "    return \"\".join(original_s)\n",
    "\n",
    "\n",
    "s = input()[:-1]\n",
    "original = decode_string(s)\n",
    "print(original)\n",
    "\n",
    "assert decode_string(\"Aabrrbaacda\") == \"Abracadabra\""
   ]
  },
  {
   "cell_type": "markdown",
   "id": "7a03de05-9184-4b85-8924-ca3cceaa9645",
   "metadata": {},
   "source": [
    "## Число"
   ]
  },
  {
   "cell_type": "markdown",
   "id": "5e2be0d5-604e-48c7-b438-5ab04d901128",
   "metadata": {},
   "source": [
    "Вводится натуральное число. Требуется разделить запятыми тройки его цифр (считая справа).\n",
    "\n",
    "**Input data**\n",
    "Вводится одно натуральное число, не превышающее $10^{100}$.\n",
    "\n",
    "**Output data**\n",
    "Вывести то же число, разделяя тройки цифр запятыми."
   ]
  },
  {
   "cell_type": "code",
   "execution_count": 1,
   "id": "adf31c44-8f2d-4081-9fcb-8bc432fdfb0d",
   "metadata": {},
   "outputs": [
    {
     "name": "stdin",
     "output_type": "stream",
     "text": [
      " 1234567890\n"
     ]
    },
    {
     "name": "stdout",
     "output_type": "stream",
     "text": [
      "1,234,567,890\n"
     ]
    }
   ],
   "source": [
    "def add_commas(num):\n",
    "    counter = 0\n",
    "    lengths_num = len(num)\n",
    "    num_with_commas = \"\"\n",
    "\n",
    "    for i in range(lengths_num - 1, -1, -1):\n",
    "        comma = \",\" if counter == 2 and i != 0 else \"\"\n",
    "        num_with_commas += num[i] + comma\n",
    "        counter = 0 if counter == 2 else counter + 1\n",
    "\n",
    "    return num_with_commas[::-1]\n",
    "\n",
    "\n",
    "num = input()\n",
    "num_with_commas = add_commas(num)\n",
    "print(num_with_commas)\n",
    "\n",
    "assert add_commas(\"12345678\") == \"12,345,678\"\n",
    "assert add_commas(\"999\") == \"999\"\n",
    "assert add_commas(\"1000\") == \"1,000\""
   ]
  },
  {
   "cell_type": "markdown",
   "id": "401719a0-5148-4c49-9a5b-502515b9b115",
   "metadata": {},
   "source": [
    "## Первая цифра после точки"
   ]
  },
  {
   "cell_type": "markdown",
   "id": "c0e86c29-dd33-43f0-8f90-b4103e6bc52d",
   "metadata": {},
   "source": [
    "Дано положительное действительное число X. Выведите его первую цифру после десятичной точки. При решении этой задачи нельзя пользоваться условной инструкцией, циклом или строками.\n",
    "\n",
    "**Input data**\n",
    "Вводится положительное действительное число.\n",
    "\n",
    "**Output data**\n",
    "Выведите ответ на задачу."
   ]
  },
  {
   "cell_type": "code",
   "execution_count": 10,
   "id": "e2ff8e3e-9197-476c-b280-b595397364ff",
   "metadata": {},
   "outputs": [
    {
     "name": "stdin",
     "output_type": "stream",
     "text": [
      " 1.79\n"
     ]
    },
    {
     "name": "stdout",
     "output_type": "stream",
     "text": [
      "7\n"
     ]
    }
   ],
   "source": [
    "def get_first_digit(num):\n",
    "    return int(num * 10) % 10\n",
    "\n",
    "num = float(input())\n",
    "first_digit = get_first_digit(num)\n",
    "print(first_digit)\n",
    "\n",
    "assert get_first_digit(1.79) == 7\n",
    "assert get_first_digit(1234.5678) == 5\n",
    "assert get_first_digit(1.01) == 0"
   ]
  }
 ],
 "metadata": {
  "kernelspec": {
   "display_name": "algoprog",
   "language": "python",
   "name": "algoprog"
  },
  "language_info": {
   "codemirror_mode": {
    "name": "ipython",
    "version": 3
   },
   "file_extension": ".py",
   "mimetype": "text/x-python",
   "name": "python",
   "nbconvert_exporter": "python",
   "pygments_lexer": "ipython3",
   "version": "3.8.10"
  }
 },
 "nbformat": 4,
 "nbformat_minor": 5
}
