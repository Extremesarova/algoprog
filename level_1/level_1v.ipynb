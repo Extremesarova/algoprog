{
 "cells": [
  {
   "cell_type": "markdown",
   "id": "ba764644-acc2-4f1a-8eb9-c40d45b03360",
   "metadata": {},
   "source": [
    "# Advanced arithmetic operations tasks"
   ]
  },
  {
   "cell_type": "markdown",
   "id": "f4cf82c2-2a34-4126-a51d-95bcb53e9737",
   "metadata": {
    "tags": []
   },
   "source": [
    "## Desks"
   ]
  },
  {
   "cell_type": "markdown",
   "id": "133b46c4-9cf4-4ff7-992f-c3e6cfd6c7c1",
   "metadata": {},
   "source": [
    "At some school, they decided to recruit three new classes and equip classrooms for them with new desks. Two students can sit at each desk. The number of students in each of the three classes is known. Output the least number of desks to be purchased for them.  \n",
    "\n",
    "**Input data**\n",
    "The program receives as input three natural numbers: the number of students in each of the three classes.\n",
    "\n",
    "**Output data**\n",
    "Output the answer to the problem."
   ]
  },
  {
   "cell_type": "code",
   "execution_count": 10,
   "id": "9308b28e-d86b-475d-a61c-4efa95a7fc35",
   "metadata": {},
   "outputs": [
    {
     "name": "stdin",
     "output_type": "stream",
     "text": [
      " 20\n",
      " 21\n",
      " 22\n"
     ]
    },
    {
     "name": "stdout",
     "output_type": "stream",
     "text": [
      "32\n"
     ]
    }
   ],
   "source": [
    "n1 = int(input())\n",
    "n2 = int(input())\n",
    "n3 = int(input())\n",
    "\n",
    "n_list = [n1, n2, n3]\n",
    "desks = sum([n // 2 + n % 2 for n in n_list])\n",
    "\n",
    "print(desks)"
   ]
  },
  {
   "cell_type": "markdown",
   "id": "055986ac-bede-4e41-9d30-60c96f4b651c",
   "metadata": {
    "tags": []
   },
   "source": [
    "## Next even"
   ]
  },
  {
   "cell_type": "markdown",
   "id": "e07b1ae3-693f-4653-8b5a-9f75d5b3296a",
   "metadata": {},
   "source": [
    "An integer `n` is given. Print the next even number. When solving this problem, you can not use a conditional if statement and loops. \n",
    "\n",
    "**Input data**\n",
    "Enter a natural number.\n",
    "\n",
    "**Output data**\n",
    "Output the answer to the problem."
   ]
  },
  {
   "cell_type": "code",
   "execution_count": 28,
   "id": "d926339d-a636-4d2e-86a4-366cd20b99a7",
   "metadata": {},
   "outputs": [
    {
     "name": "stdin",
     "output_type": "stream",
     "text": [
      " 26\n"
     ]
    },
    {
     "name": "stdout",
     "output_type": "stream",
     "text": [
      "28\n"
     ]
    }
   ],
   "source": [
    "n = int(input())\n",
    "\n",
    "res = (n // 2 + 1) * 2\n",
    "\n",
    "print(res)"
   ]
  },
  {
   "cell_type": "markdown",
   "id": "c1eda6b7-ef4a-4bd7-a6e2-89ead8145210",
   "metadata": {
    "tags": []
   },
   "source": [
    "## Rook move"
   ]
  },
  {
   "cell_type": "markdown",
   "id": "f851d2ae-f9af-4829-beba-0aa39441b367",
   "metadata": {},
   "source": [
    "The field of the chessboard is defined by a pair of numbers (a, b), each from 1 to 8, the first number specifies the column number, the second - the row number. Two cells are given. Determine if the rook can move from the first cell to the second in one move.\n",
    "\n",
    "**Input data**\n",
    "Given 4 integers from 1 to 8 each, the first two define the starting cell, the second two define the final cell. The start and end cells do not match.\n",
    "\n",
    "**Output data**\n",
    "The program should output `YES` if it is possible to move the rook from the first cell to the second one, or `NO` otherwise."
   ]
  },
  {
   "cell_type": "code",
   "execution_count": 6,
   "id": "5df59d90-95e7-4ada-b8dd-2cbd72752ceb",
   "metadata": {},
   "outputs": [
    {
     "name": "stdin",
     "output_type": "stream",
     "text": [
      " 1\n",
      " 2\n",
      " 1\n",
      " 5\n"
     ]
    }
   ],
   "source": [
    "source_cell = (int(input()), int(input()))\n",
    "target_cell = (int(input()), int(input()))\n",
    "\n",
    "is_possible = 'YES'\n",
    "\n",
    "if source_cell[0] != target_cell[0] and source_cell[1] != target_cell[1]:\n",
    "    is_possible = 'NO'\n",
    "    \n",
    "print(is_possible)"
   ]
  },
  {
   "cell_type": "markdown",
   "id": "bb9d70f9-3504-40b8-b183-d05506d9053f",
   "metadata": {
    "tags": []
   },
   "source": [
    "## Chocolate bar"
   ]
  },
  {
   "cell_type": "markdown",
   "id": "bbd1f71d-fe7c-4ceb-8701-2850a31788a3",
   "metadata": {},
   "source": [
    "It is required to determine whether it is possible to break off k slices from a chocolate bar of size n × m if it is allowed to make one break in a straight line between the slices (that is, to break a chocolate bar into two rectangles).  \n",
    "\n",
    "**Input data**\n",
    "3 natural numbers are introduced: n, m and k; k is not equal to n × m. It is guaranteed that the number of slices in a chocolate bar does not exceed 30000.  \n",
    "\n",
    "**Output data**\n",
    "The program should print the word YES if it is possible to break off the specified number of slices, otherwise print the word NO.  "
   ]
  },
  {
   "cell_type": "code",
   "execution_count": 1,
   "id": "7bacc079-a5ef-4bcf-9a97-7ed19977a7ad",
   "metadata": {},
   "outputs": [
    {
     "name": "stdin",
     "output_type": "stream",
     "text": [
      " 3\n",
      " 2\n",
      " 4\n"
     ]
    }
   ],
   "source": [
    "n = int(input())\n",
    "m = int(input())\n",
    "k = int(input())\n",
    "\n",
    "left = n * m - k\n",
    "\n",
    "if left % n == 0 or left % m == 0:\n",
    "    print(\"YES\")\n",
    "else:\n",
    "    print(\"NO\")"
   ]
  },
  {
   "cell_type": "code",
   "execution_count": 3,
   "id": "c5f8efa2-e6bc-45f5-a8d3-3660bbf74d32",
   "metadata": {},
   "outputs": [],
   "source": [
    "left = n * m - k"
   ]
  },
  {
   "cell_type": "code",
   "execution_count": null,
   "id": "c772c512-1483-41b8-8969-1a28713a324b",
   "metadata": {},
   "outputs": [],
   "source": [
    "if left % n == 0 or left % m == 0:\n",
    "    print(\"YES\")\n",
    "else:\n",
    "    print(\"NO\")"
   ]
  }
 ],
 "metadata": {
  "kernelspec": {
   "display_name": "algoprog",
   "language": "python",
   "name": "algoprog"
  },
  "language_info": {
   "codemirror_mode": {
    "name": "ipython",
    "version": 3
   },
   "file_extension": ".py",
   "mimetype": "text/x-python",
   "name": "python",
   "nbconvert_exporter": "python",
   "pygments_lexer": "ipython3",
   "version": "3.8.10"
  }
 },
 "nbformat": 4,
 "nbformat_minor": 5
}
