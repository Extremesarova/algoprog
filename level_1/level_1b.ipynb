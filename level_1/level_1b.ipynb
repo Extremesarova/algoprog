{
 "cells": [
  {
   "cell_type": "markdown",
   "id": "ba764644-acc2-4f1a-8eb9-c40d45b03360",
   "metadata": {},
   "source": [
    "# Array tasks"
   ]
  },
  {
   "cell_type": "markdown",
   "id": "f4cf82c2-2a34-4126-a51d-95bcb53e9737",
   "metadata": {},
   "source": [
    "## A[0], A[2], A[4], ..."
   ]
  },
  {
   "cell_type": "markdown",
   "id": "133b46c4-9cf4-4ff7-992f-c3e6cfd6c7c1",
   "metadata": {},
   "source": [
    "An array consisting of integers is given. Numbering of elements starts from 0. Write a program that outputs array elements whose numbers are even (0, 2, 4...).\n",
    "\n",
    "**Input data**\n",
    "First, the number N is given - the number of elements in the array (1 ≤ N ≤ 100). Next, N numbers are written separated by a space — the elements of the array. The array consists of integers.\n",
    "\n",
    "**Output data**\n",
    "It is necessary to output all the elements of the array with even numbers."
   ]
  },
  {
   "cell_type": "code",
   "execution_count": 10,
   "id": "9308b28e-d86b-475d-a61c-4efa95a7fc35",
   "metadata": {},
   "outputs": [
    {
     "name": "stdin",
     "output_type": "stream",
     "text": [
      " 6\n",
      " 1 2 3 4 5 6\n"
     ]
    },
    {
     "name": "stdout",
     "output_type": "stream",
     "text": [
      "1 3 5\n"
     ]
    }
   ],
   "source": [
    "n = int(input())\n",
    "array = list(input().split())\n",
    "\n",
    "print(\" \".join(array[::2]))"
   ]
  },
  {
   "cell_type": "markdown",
   "id": "3d9e3718-318c-44ec-8164-9479a916bf58",
   "metadata": {},
   "source": [
    "## Output even elements"
   ]
  },
  {
   "cell_type": "markdown",
   "id": "e9e1eec9-430f-4f50-8334-a193e93f83e2",
   "metadata": {},
   "source": [
    "An array consisting of integers is given. Write a program that outputs those array elements that are even numbers.\n",
    "\n",
    "**Input data**\n",
    "First, the number N is given - the number of elements in the array (1 ≤ N ≤ 100). Next, N numbers are written separated by a space — the elements of the array. The array consists of integers.\n",
    "\n",
    "**Output data**\n",
    "It is necessary to output all even elements of the array (that is, those elements that are even numbers)."
   ]
  },
  {
   "cell_type": "code",
   "execution_count": 14,
   "id": "aacc8552-64a8-44b4-bf2b-42c409b9538e",
   "metadata": {},
   "outputs": [
    {
     "name": "stdin",
     "output_type": "stream",
     "text": [
      " 4\n",
      " 1 2 3 4\n"
     ]
    },
    {
     "name": "stdout",
     "output_type": "stream",
     "text": [
      "2 4\n"
     ]
    }
   ],
   "source": [
    "n = int(input())\n",
    "array = list(map(int, input().split()))\n",
    "sliced_array = [str(el) for el in array if el % 2 == 0]\n",
    "result_string = \" \".join(sliced_array)\n",
    "\n",
    "print(result_string)"
   ]
  },
  {
   "cell_type": "markdown",
   "id": "9aaaf1fe-2966-41f1-bdde-a57455bc83c5",
   "metadata": {},
   "source": [
    "## The number of elements larger than the previous one"
   ]
  },
  {
   "cell_type": "markdown",
   "id": "011efa4c-3a9d-4c18-9191-4ff71732bf51",
   "metadata": {},
   "source": [
    "An array consisting of integers is given. Write a program that counts the number of array elements larger than the previous one (the element with the previous number).\n",
    "\n",
    "**Input data**\n",
    "First, the number N is given - the number of elements in the array (1 ≤ N ≤ 10000). Next, N numbers are written separated by a space - the elements of the array. The array consists of integers.\n",
    "\n",
    "**Output data**\n",
    "It is necessary to output a single number - the number of array elements larger than the previous one."
   ]
  },
  {
   "cell_type": "code",
   "execution_count": 1,
   "id": "d4f2adba-98ce-4e93-94d1-bf557fe33f59",
   "metadata": {},
   "outputs": [
    {
     "name": "stdin",
     "output_type": "stream",
     "text": [
      " 5\n",
      " 1 2 3 4 5\n"
     ]
    },
    {
     "name": "stdout",
     "output_type": "stream",
     "text": [
      "4\n"
     ]
    }
   ],
   "source": [
    "n = int(input())\n",
    "array = list(map(int, input().split()))\n",
    "\n",
    "counter = 0\n",
    "for i in range(1, len(array)):\n",
    "    if array[i] > array[i - 1]:\n",
    "        counter += 1\n",
    "\n",
    "print(counter)"
   ]
  },
  {
   "cell_type": "markdown",
   "id": "cd9b2fe6-2ab3-4ddb-98d5-768604a30eea",
   "metadata": {},
   "source": [
    "## Rearrange the elements in reverse order"
   ]
  },
  {
   "cell_type": "markdown",
   "id": "f63771e4-2643-4a42-9a37-160d352aa5ec",
   "metadata": {},
   "source": [
    "Write a program that rearranges the array elements in reverse order without using an additional array. The program must read the array, change the order of its elements, then output the result (just output the array elements in reverse order is not enough!)  \n",
    "It is not just necessary to enter or output numbers in a tricky way — you really need to rearrange them in your array as required; at the same time, you cannot use additional arrays, slices (in python) and use standard insert operations.  \n",
    "\n",
    "**Input data**\n",
    "First, the number N is given - the number of elements in the array (1 ≤ N ≤ 35). Next, N numbers are written separated by a space — the elements of the array. The array consists of integers.\n",
    "\n",
    "**Output data**\n",
    "It is necessary to output the array obtained after rearranging the elements."
   ]
  },
  {
   "cell_type": "code",
   "execution_count": 2,
   "id": "eeff447a-3533-4b82-8058-d90fdee1f900",
   "metadata": {},
   "outputs": [
    {
     "name": "stdin",
     "output_type": "stream",
     "text": [
      " 6\n",
      " 1 2 3 4 5 6\n"
     ]
    },
    {
     "name": "stdout",
     "output_type": "stream",
     "text": [
      "6 5 4 3 2 1\n"
     ]
    }
   ],
   "source": [
    "n = int(input())\n",
    "array = list(map(int, input().split()))\n",
    "\n",
    "for i in range(n // 2):\n",
    "    array[i], array[n - i - 1] = array[n - i - 1], array[i]\n",
    "\n",
    "print(\" \".join([str(el) for el in array]))"
   ]
  },
  {
   "cell_type": "markdown",
   "id": "ba62a495-4f83-4dc2-9fd2-209b6707110c",
   "metadata": {
    "tags": []
   },
   "source": [
    "## Right shift"
   ]
  },
  {
   "cell_type": "markdown",
   "id": "6c93ef40-32e4-40a8-b675-c4df613a2e23",
   "metadata": {},
   "source": [
    "Write a program that rotates the elements of an array to the right (for example, if the elements are numbered starting from zero, then the 0th element becomes the 1st, the 1st becomes the 2nd, ..., the last becomes the 0th, that is array {3, 5, 7, 9} turns into array {9, 3, 5, 7}).  \n",
    "You must not just enter or display numbers in a tricky way - you really need to rearrange them in your array as required; in this case, you cannot use additional arrays, slices (in python) and use standard operations like insert and pop.  \n",
    "\n",
    "**Input data**\n",
    "First, the number N is given - the number of elements in the array (1 ≤ N ≤ 35). Next, N numbers are written separated by a space — the elements of the array. The array consists of integers.\n",
    "\n",
    "**Output data**\n",
    "It is necessary to display the array obtained after shifting the elements."
   ]
  },
  {
   "cell_type": "code",
   "execution_count": 5,
   "id": "71462e83-15f4-4b3e-bd1e-f7d4a188a970",
   "metadata": {},
   "outputs": [
    {
     "name": "stdin",
     "output_type": "stream",
     "text": [
      " 4\n",
      " 3 5 7 9\n"
     ]
    },
    {
     "name": "stdout",
     "output_type": "stream",
     "text": [
      "9 3 5 7\n"
     ]
    }
   ],
   "source": [
    "n = int(input())\n",
    "arr = list(map(int, input().split()))\n",
    "    \n",
    "future_zero_el = arr[n - 1]\n",
    "for i in range(n - 1, -1, -1):\n",
    "    arr[i] = arr[i - 1]\n",
    "arr[0] = future_zero_el\n",
    "\n",
    "print(\" \".join([str(el) for el in arr]))"
   ]
  },
  {
   "cell_type": "markdown",
   "id": "5fc50de4-9045-47bf-9ef8-abaaf4e656c6",
   "metadata": {
    "tags": []
   },
   "source": [
    "## Maximum in an array"
   ]
  },
  {
   "cell_type": "markdown",
   "id": "d1d6884c-ee6f-4a44-8ed5-aa0a31b9b054",
   "metadata": {},
   "source": [
    "An array consisting of integers is entered. Find the largest among them.  \n",
    "\n",
    "**Input data**\n",
    "First, the number N is given - the number of elements in the array (1 ≤ N ≤ 35). Next, N numbers are written separated by a space — the elements of the array. The array consists of integers.\n",
    "\n",
    "**Output data**\n",
    "It is necessary to output the value of the largest element in the array."
   ]
  },
  {
   "cell_type": "code",
   "execution_count": 1,
   "id": "f41c9d69-f2b8-4de4-bc94-73f445f901ed",
   "metadata": {},
   "outputs": [
    {
     "name": "stdin",
     "output_type": "stream",
     "text": [
      " 3\n",
      " 1 2 3\n"
     ]
    },
    {
     "name": "stdout",
     "output_type": "stream",
     "text": [
      "3\n"
     ]
    }
   ],
   "source": [
    "n = int(input())\n",
    "arr = list(map(int, input().split()))\n",
    "    \n",
    "max_el = arr[0]\n",
    "for el in arr:\n",
    "    if el > max_el:\n",
    "        max_el = el\n",
    "        \n",
    "print(max_el)"
   ]
  },
  {
   "cell_type": "markdown",
   "id": "c98cb6b2-e31e-4f9c-bae3-1d04519a8321",
   "metadata": {
    "tags": []
   },
   "source": [
    "## Is the matrix symmetric?"
   ]
  },
  {
   "cell_type": "markdown",
   "id": "aa0a565e-1e0c-49aa-b8ad-8e62e7751dff",
   "metadata": {},
   "source": [
    "Check whether the two-dimensional array is symmetric with respect to the main diagonal. The main diagonal is the one that goes from the upper left corner of the two-dimensional array to the lower right.\n",
    "\n",
    "**Input data**\n",
    "The program receives an input number n ≤ 100, which is the number of rows and columns in the array. Next, there are n rows of n numbers in the input stream, which are elements of the array.\n",
    "\n",
    "**Output data**\n",
    "The program should output the word *yes* for a symmetric array and the word *no* for an unsymmetric one."
   ]
  },
  {
   "cell_type": "code",
   "execution_count": 6,
   "id": "aa570d0e-9cab-4d36-9415-abdd626397a2",
   "metadata": {},
   "outputs": [
    {
     "name": "stdin",
     "output_type": "stream",
     "text": [
      " 3\n",
      " 0 1 2\n",
      " 1 2 3\n",
      " 4 5 6\n"
     ]
    },
    {
     "name": "stdout",
     "output_type": "stream",
     "text": [
      "no\n"
     ]
    }
   ],
   "source": [
    "arr = []\n",
    "n = int(input())\n",
    "for i in range(n):\n",
    "    arr.append(list(map(int, input().split())))\n",
    "\n",
    "res = 'yes'\n",
    "for i in range(n):\n",
    "    for j in range(n):\n",
    "        if arr[i][j] != arr[j][i]:\n",
    "            res = 'no'\n",
    "            break\n",
    "print(res)"
   ]
  },
  {
   "cell_type": "markdown",
   "id": "aca5a085-5a69-415c-b4a6-911ca9854a29",
   "metadata": {
    "tags": []
   },
   "source": [
    "## Competitions - 2"
   ]
  },
  {
   "cell_type": "markdown",
   "id": "b5848ae3-dd1a-439e-b39e-c0bcb6182aa7",
   "metadata": {},
   "source": [
    "There are *n* athletes competing in the hammer throw. Each of them made *m* throws. The winner of the competition is the athlete who has the maximum best result in all throws. Thus, the program must find the value of the maximum element in this array, as well as its indexes (that is, the athlete's number and the attempt number).\n",
    "\n",
    "**Input data**\n",
    "The program receives two numbers *n* and *m* as input, which are the number of rows and columns in the array. Then in the input stream there are *n* rows of *m* numbers, which are elements of the array.\n",
    "\n",
    "**Output data**\n",
    "It is necessary to display the array obtained after shifting the elements."
   ]
  },
  {
   "cell_type": "code",
   "execution_count": 15,
   "id": "7f20315b-b722-4e4d-9228-1042b9d23926",
   "metadata": {},
   "outputs": [
    {
     "name": "stdin",
     "output_type": "stream",
     "text": [
      " 3 3\n",
      " 1 2 3\n",
      " 4 5 6\n",
      " 7 8 9\n"
     ]
    },
    {
     "name": "stdout",
     "output_type": "stream",
     "text": [
      "9\n",
      "2 2\n"
     ]
    }
   ],
   "source": [
    "arr = []\n",
    "n, m = map(int, input().split())\n",
    "for i in range(n):\n",
    "    arr.append(list(map(int, input().split())))\n",
    "\n",
    "max_el = arr[0][0]\n",
    "el_row = 0\n",
    "el_col = 0\n",
    "\n",
    "for i in range(n):\n",
    "    for j in range(m):\n",
    "        if arr[i][j] > max_el:\n",
    "            max_el = arr[i][j]\n",
    "            el_row = i\n",
    "            el_col = j\n",
    "            \n",
    "print(max_el)\n",
    "print(el_row, el_col)"
   ]
  },
  {
   "cell_type": "markdown",
   "id": "5e5664ab-1d11-4c94-be60-fed92a6d12b8",
   "metadata": {
    "tags": []
   },
   "source": [
    "## Pascal's triangle"
   ]
  },
  {
   "cell_type": "markdown",
   "id": "ee53c739-51b0-46b1-a73b-946279d49dc3",
   "metadata": {},
   "source": [
    "Two numbers n and m are given. Create a two-dimensional array `[n][m]` and fill it according to the following rules: Numbers in row `0` or column `0` are equal to `1` (`A[0][j]=1`, `A[i][0]=1`). For all other elements of the array `A[i][j]=A[i-1][j]+A[i][j-1]`, that is, each element is equal to the sum of two elements to the left and above it.\n",
    "\n",
    "**Input data**\n",
    "The program receives two numbers `n` and `m` as input.\n",
    "\n",
    "**Output data**\n",
    "Print `n` lines with m numbers each - the desired array."
   ]
  },
  {
   "cell_type": "code",
   "execution_count": 13,
   "id": "ef0eeef7-0fd0-43c0-984a-e45061fc9e77",
   "metadata": {},
   "outputs": [
    {
     "name": "stdin",
     "output_type": "stream",
     "text": [
      " 3 3\n"
     ]
    },
    {
     "name": "stdout",
     "output_type": "stream",
     "text": [
      "1 1 1\n",
      "1 2 3\n",
      "1 3 6\n"
     ]
    }
   ],
   "source": [
    "arr = []\n",
    "n, m = map(int, input().split())\n",
    "\n",
    "for i in range(n):\n",
    "    arr.append([0] * m)\n",
    "    arr[i][0] = 1\n",
    "    \n",
    "for i in range(m):\n",
    "    arr[0][i] = 1\n",
    "\n",
    "for i in range(1, n):\n",
    "    for j in range(1, m):\n",
    "        arr[i][j] = arr[i][j - 1] + arr[i - 1][j]\n",
    "    \n",
    "print(\"\\n\".join([\" \".join([str(el) for el in row]) for row in arr]))"
   ]
  },
  {
   "cell_type": "markdown",
   "id": "695704ae-4766-4669-bdc7-127a118d610d",
   "metadata": {},
   "source": [
    "# Chars and Strings tasks"
   ]
  },
  {
   "cell_type": "markdown",
   "id": "f1c54d75-9213-454b-a38d-b8b53c7721f9",
   "metadata": {
    "tags": []
   },
   "source": [
    "## Check if a character is a digit"
   ]
  },
  {
   "cell_type": "markdown",
   "id": "502b50e7-685e-4998-ac6a-2a3273bce23b",
   "metadata": {},
   "source": [
    "**Input data**\n",
    "A single character `c` is given.\n",
    "\n",
    "**Output data**\n",
    "Output the string `yes` if the character is a digit, and the string `no` otherwise.\n",
    "\n",
    "**Note**\n",
    "It is forbidden to use standard functions like `isdigit`."
   ]
  },
  {
   "cell_type": "code",
   "execution_count": 18,
   "id": "bab9b50c-ccbd-41fe-bb2e-4d6dd5c45975",
   "metadata": {},
   "outputs": [
    {
     "name": "stdin",
     "output_type": "stream",
     "text": [
      " w\n"
     ]
    },
    {
     "name": "stdout",
     "output_type": "stream",
     "text": [
      "no\n"
     ]
    }
   ],
   "source": [
    "char = input()\n",
    "\n",
    "is_digit = 'yes' if 48 <= ord(char) <= 57 else 'no'\n",
    "\n",
    "print(is_digit)"
   ]
  },
  {
   "cell_type": "markdown",
   "id": "97a06e9c-eb35-4e18-bb5e-3472d6d91f00",
   "metadata": {
    "tags": []
   },
   "source": [
    "## Convert character to uppercase"
   ]
  },
  {
   "cell_type": "markdown",
   "id": "afed97c4-9402-4b33-b992-5511161c300c",
   "metadata": {},
   "source": [
    "**Input data**\n",
    "A single character `c` is given.\n",
    "\n",
    "**Output data**\n",
    "If the character is a lowercase letter of the Latin alphabet (that is, a letter from `a` to `z`), print a similar capital letter instead, otherwise print the same character (this operation is called \"upper case\").\n",
    "\n",
    "**Note**\n",
    "It is forbidden to use standard functions like `upcase`. Work with character codes directly."
   ]
  },
  {
   "cell_type": "code",
   "execution_count": 7,
   "id": "bafcd42c-9714-48b7-b442-ab90823e9fa2",
   "metadata": {},
   "outputs": [
    {
     "name": "stdin",
     "output_type": "stream",
     "text": [
      " t\n"
     ]
    },
    {
     "name": "stdout",
     "output_type": "stream",
     "text": [
      "T\n"
     ]
    }
   ],
   "source": [
    "char = input()\n",
    "\n",
    "char_code = ord(char)\n",
    "\n",
    "upper_char = chr(char_code - 32) if 97 <= char_code <= 122 else char\n",
    "\n",
    "print(upper_char)"
   ]
  },
  {
   "cell_type": "markdown",
   "id": "3fc6727c-e6d6-43ca-988e-f2154937250f",
   "metadata": {
    "tags": []
   },
   "source": [
    "## Do the strings match?"
   ]
  },
  {
   "cell_type": "markdown",
   "id": "b4d19e9e-66ab-4f96-b13e-6c196a9912e4",
   "metadata": {},
   "source": [
    "**Input data**\n",
    "Given 2 lines.\n",
    "\n",
    "**Output data**\n",
    "Output the word yes if the strings match, and the word no otherwise."
   ]
  },
  {
   "cell_type": "code",
   "execution_count": 11,
   "id": "25dc4abd-6423-4108-bce8-5c38b58afb21",
   "metadata": {},
   "outputs": [
    {
     "name": "stdin",
     "output_type": "stream",
     "text": [
      " a\n",
      " a\n"
     ]
    },
    {
     "name": "stdout",
     "output_type": "stream",
     "text": [
      "yes\n"
     ]
    }
   ],
   "source": [
    "s1 = input()\n",
    "s2 = input()\n",
    "\n",
    "is_equal = 'yes' if s1 == s2 else 'no'\n",
    "\n",
    "print(is_equal)"
   ]
  },
  {
   "cell_type": "markdown",
   "id": "342fccfe-476e-42a7-aaf9-20119f25d14f",
   "metadata": {
    "tags": []
   },
   "source": [
    "## Number of words"
   ]
  },
  {
   "cell_type": "markdown",
   "id": "a6c83f32-10a3-46a4-a186-e7dafd56cdd4",
   "metadata": {},
   "source": [
    "You are given a non-empty string that may contain spaces.  \n",
    "Find how many words there are in it (a word is a sequence of non-whitespace characters, words are separated by one space, the first and last character of a string is not a space).  \n",
    "\n",
    "**Input data**\n",
    "Multiple lines are given as an input.\n",
    "\n",
    "**Output data**\n",
    "It is necessary to display the number of words in the first of the entered lines."
   ]
  },
  {
   "cell_type": "code",
   "execution_count": 12,
   "id": "f28eb259-e35f-4a88-a615-8d74ff1f58f9",
   "metadata": {},
   "outputs": [
    {
     "name": "stdin",
     "output_type": "stream",
     "text": [
      " In the town where I was born\n"
     ]
    },
    {
     "name": "stdout",
     "output_type": "stream",
     "text": [
      "7\n"
     ]
    }
   ],
   "source": [
    "text = input()\n",
    "\n",
    "text_len = len(text.split())\n",
    "\n",
    "print(text_len)"
   ]
  },
  {
   "cell_type": "markdown",
   "id": "aec936a9-9678-4c3f-b668-5fb2d7386986",
   "metadata": {
    "tags": []
   },
   "source": [
    "## Is the word a palindrome?"
   ]
  },
  {
   "cell_type": "markdown",
   "id": "7596bc89-9471-4cbb-9d26-db1461422ecd",
   "metadata": {},
   "source": [
    "Determine from the given string whether it is a palindrome (that is, whether it can be read the other way around, as, for example, the word *level*).\n",
    "\n",
    "**Input data**\n",
    "The input is 1 line without spaces.\n",
    "\n",
    "**Output data**\n",
    "Output `yes` if the string is a palindrome and `no` otherwise."
   ]
  },
  {
   "cell_type": "code",
   "execution_count": 15,
   "id": "5b4a8082-7ef8-406a-a917-f517c42cceb8",
   "metadata": {},
   "outputs": [
    {
     "name": "stdin",
     "output_type": "stream",
     "text": [
      " stomp\n"
     ]
    },
    {
     "name": "stdout",
     "output_type": "stream",
     "text": [
      "no\n"
     ]
    }
   ],
   "source": [
    "word = input()\n",
    "\n",
    "is_palindrome = 'yes' if word == word[::-1] else 'no'\n",
    "\n",
    "print(is_palindrome)"
   ]
  },
  {
   "cell_type": "code",
   "execution_count": null,
   "id": "c9e2b4aa-63e3-4721-8cb1-7d9ec10306ec",
   "metadata": {},
   "outputs": [],
   "source": []
  }
 ],
 "metadata": {
  "kernelspec": {
   "display_name": "algoprog",
   "language": "python",
   "name": "algoprog"
  },
  "language_info": {
   "codemirror_mode": {
    "name": "ipython",
    "version": 3
   },
   "file_extension": ".py",
   "mimetype": "text/x-python",
   "name": "python",
   "nbconvert_exporter": "python",
   "pygments_lexer": "ipython3",
   "version": "3.8.10"
  }
 },
 "nbformat": 4,
 "nbformat_minor": 5
}
