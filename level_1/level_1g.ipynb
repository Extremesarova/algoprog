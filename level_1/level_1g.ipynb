{
 "cells": [
  {
   "cell_type": "markdown",
   "id": "ba764644-acc2-4f1a-8eb9-c40d45b03360",
   "metadata": {},
   "source": [
    "# Additional tasks on different topics - 1"
   ]
  },
  {
   "cell_type": "markdown",
   "id": "7f5c3902-87cd-4b05-bc3b-fc3842f4e51a",
   "metadata": {},
   "source": [
    "## Электронные часы - 2"
   ]
  },
  {
   "cell_type": "markdown",
   "id": "848851fa-20a8-489f-9696-6372dea75fad",
   "metadata": {},
   "source": [
    "Электронные часы показывают время в формате `h:mm:ss`, то есть сначала записывается количество часов в диапазоне от 0 до 23, потом обязательно двузначное количество минут, затем обязательно двузначное количество секунд. Количество минут и секунд при необходимости дополняются до двузначного числа нулями.\n",
    "\n",
    "С начала некоторых суток прошло n секунд. Выведите, что покажут часы. Задачу необходимо решить без использования условных операторов (в том числе без тернарного оператора ?: в С++), без циклов, массивов и строк, и без хитрого форматированного вывода (типа `%02d`).\n",
    "\n",
    "**Input data**\n",
    "Вводится число `n` - целое, положительное, не превышает $10^7$\n",
    "\n",
    "**Output data**\n",
    "Выведите показания часов, соблюдая формат."
   ]
  },
  {
   "cell_type": "code",
   "execution_count": 1,
   "id": "8b42eb75-0bff-4b1f-b2ab-f479c79da275",
   "metadata": {},
   "outputs": [
    {
     "name": "stdin",
     "output_type": "stream",
     "text": [
      " 3602\n"
     ]
    },
    {
     "name": "stdout",
     "output_type": "stream",
     "text": [
      "1:00:02\n"
     ]
    }
   ],
   "source": [
    "def get_time(seconds_init):\n",
    "    seconds_in_hour = 60 * 60\n",
    "    seconds_in_minute = 60\n",
    "    hours_in_day = 24\n",
    "\n",
    "    hours_full = seconds_init // seconds_in_hour\n",
    "    hours = hours_full % hours_in_day\n",
    "\n",
    "    seconds_left = seconds_init % seconds_in_hour\n",
    "\n",
    "    minutes = seconds_left // seconds_in_minute\n",
    "    seconds = seconds_left % seconds_in_minute\n",
    "\n",
    "    time = f\"{hours}:{str(minutes).zfill(2)}:{str(seconds).zfill(2)}\"\n",
    "    return time\n",
    "\n",
    "seconds_initial = int(input())\n",
    "time = get_time(seconds_initial)\n",
    "print(time)\n",
    "\n",
    "assert get_time(3602) == \"1:00:02\"\n",
    "assert get_time(129700) == \"12:01:40\""
   ]
  },
  {
   "cell_type": "markdown",
   "id": "3577c832-591f-4de8-ac39-b81086ad43f5",
   "metadata": {},
   "source": [
    "## Улитка"
   ]
  },
  {
   "cell_type": "markdown",
   "id": "f32ab2e3-16a5-4e4f-91f5-d4b6c4633e8c",
   "metadata": {},
   "source": [
    "Улитка ползет по вертикальному шесту высотой `h` метров, поднимаясь за день на `a` метров, а за ночь спускаясь на `b` метров. На какой день улитка доползет до вершины шеста?\n",
    "\n",
    "**Input data**\n",
    "Программа получает на вход три неотрицательных целых числа — `h`, `a`, `b`. Гарантируется, что `a > b`.\n",
    "\n",
    "**Output data**\n",
    "Программа должна вывести одно число."
   ]
  },
  {
   "cell_type": "code",
   "execution_count": 17,
   "id": "8fe4fcfe-51c1-4096-813b-b4dd15fdd0d9",
   "metadata": {},
   "outputs": [
    {
     "name": "stdin",
     "output_type": "stream",
     "text": [
      " 10\n",
      " 3\n",
      " 2\n"
     ]
    },
    {
     "name": "stdout",
     "output_type": "stream",
     "text": [
      "8\n"
     ]
    }
   ],
   "source": [
    "def get_day(h, a, b):\n",
    "    counter = 0\n",
    "    while True:\n",
    "        counter += 1\n",
    "        h -= a\n",
    "        if h <= 0:\n",
    "            break\n",
    "        h += b\n",
    "    return counter\n",
    "\n",
    "h = int(input())\n",
    "a = int(input())\n",
    "b = int(input())\n",
    "day = get_day(h, a, b)\n",
    "print(day)\n",
    "\n",
    "assert get_day(10, 3, 2) == 8"
   ]
  },
  {
   "cell_type": "markdown",
   "id": "328bc275-5292-45bf-bf81-63bd799d91ec",
   "metadata": {},
   "source": [
    "## Дележ яблок - 3"
   ]
  },
  {
   "cell_type": "markdown",
   "id": "eb9ecc96-9381-4f2f-b082-d457bb530e4c",
   "metadata": {},
   "source": [
    "`n` школьников делят `k` яблок “поровну”, то есть так, чтобы количество яблок, доставшихся любым двум школьникам, отличалось бы не более, чем на `1`.  \n",
    "При решении этой задачи нельзя пользоваться условной инструкцией if и циклами.\n",
    "\n",
    "**Input data**\n",
    "Программа получает на вход числа `n` и `k`.\n",
    "\n",
    "**Output data**\n",
    "Программа должна вывести количество школьников, которым достанется яблок меньше, чем некоторым из их товарищей.\n"
   ]
  },
  {
   "cell_type": "code",
   "execution_count": 20,
   "id": "70622172-da8c-47b9-83f5-ba81375cbf89",
   "metadata": {},
   "outputs": [
    {
     "name": "stdin",
     "output_type": "stream",
     "text": [
      " 7\n",
      " 30\n"
     ]
    },
    {
     "name": "stdout",
     "output_type": "stream",
     "text": [
      "5\n"
     ]
    }
   ],
   "source": [
    "def get_pupils(n, k):\n",
    "    left_apples = k % n\n",
    "    pupils = (n - left_apples) % n\n",
    "    return pupils\n",
    "\n",
    "n = int(input())\n",
    "k = int(input())\n",
    "\n",
    "pupils = get_pupils(n, k)\n",
    "print(pupils)\n",
    "\n",
    "assert get_pupils(7, 30) == 5\n",
    "assert get_pupils(7, 28) == 0\n",
    "assert get_pupils(7, 35) == 0\n",
    "assert get_pupils(7, 34) == 1"
   ]
  },
  {
   "cell_type": "code",
   "execution_count": null,
   "id": "776bad3b-1cf2-4424-88e5-8d30ab7dc95b",
   "metadata": {},
   "outputs": [],
   "source": []
  }
 ],
 "metadata": {
  "kernelspec": {
   "display_name": "algoprog",
   "language": "python",
   "name": "algoprog"
  },
  "language_info": {
   "codemirror_mode": {
    "name": "ipython",
    "version": 3
   },
   "file_extension": ".py",
   "mimetype": "text/x-python",
   "name": "python",
   "nbconvert_exporter": "python",
   "pygments_lexer": "ipython3",
   "version": "3.8.10"
  }
 },
 "nbformat": 4,
 "nbformat_minor": 5
}
