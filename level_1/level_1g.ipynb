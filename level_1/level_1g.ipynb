{
 "cells": [
  {
   "cell_type": "markdown",
   "id": "ba764644-acc2-4f1a-8eb9-c40d45b03360",
   "metadata": {},
   "source": [
    "# Additional tasks on different topics - 1"
   ]
  },
  {
   "cell_type": "markdown",
   "id": "7f5c3902-87cd-4b05-bc3b-fc3842f4e51a",
   "metadata": {},
   "source": [
    "## Электронные часы - 2"
   ]
  },
  {
   "cell_type": "markdown",
   "id": "848851fa-20a8-489f-9696-6372dea75fad",
   "metadata": {},
   "source": [
    "Электронные часы показывают время в формате `h:mm:ss`, то есть сначала записывается количество часов в диапазоне от 0 до 23, потом обязательно двузначное количество минут, затем обязательно двузначное количество секунд. Количество минут и секунд при необходимости дополняются до двузначного числа нулями.\n",
    "\n",
    "С начала некоторых суток прошло n секунд. Выведите, что покажут часы. Задачу необходимо решить без использования условных операторов (в том числе без тернарного оператора ?: в С++), без циклов, массивов и строк, и без хитрого форматированного вывода (типа `%02d`).\n",
    "\n",
    "**Input data**\n",
    "Вводится число `n` - целое, положительное, не превышает $10^7$\n",
    "\n",
    "**Output data**\n",
    "Выведите показания часов, соблюдая формат."
   ]
  },
  {
   "cell_type": "code",
   "execution_count": 1,
   "id": "8b42eb75-0bff-4b1f-b2ab-f479c79da275",
   "metadata": {},
   "outputs": [
    {
     "name": "stdin",
     "output_type": "stream",
     "text": [
      " 3602\n"
     ]
    },
    {
     "name": "stdout",
     "output_type": "stream",
     "text": [
      "1:00:02\n"
     ]
    }
   ],
   "source": [
    "def get_time(seconds_init):\n",
    "    seconds_in_hour = 60 * 60\n",
    "    seconds_in_minute = 60\n",
    "    hours_in_day = 24\n",
    "\n",
    "    hours_full = seconds_init // seconds_in_hour\n",
    "    hours = hours_full % hours_in_day\n",
    "\n",
    "    seconds_left = seconds_init % seconds_in_hour\n",
    "\n",
    "    minutes = seconds_left // seconds_in_minute\n",
    "    seconds = seconds_left % seconds_in_minute\n",
    "\n",
    "    time = f\"{hours}:{str(minutes).zfill(2)}:{str(seconds).zfill(2)}\"\n",
    "    return time\n",
    "\n",
    "seconds_initial = int(input())\n",
    "time = get_time(seconds_initial)\n",
    "print(time)\n",
    "\n",
    "assert get_time(3602) == \"1:00:02\"\n",
    "assert get_time(129700) == \"12:01:40\""
   ]
  },
  {
   "cell_type": "markdown",
   "id": "3577c832-591f-4de8-ac39-b81086ad43f5",
   "metadata": {},
   "source": [
    "## Улитка"
   ]
  },
  {
   "cell_type": "markdown",
   "id": "f32ab2e3-16a5-4e4f-91f5-d4b6c4633e8c",
   "metadata": {},
   "source": [
    "Улитка ползет по вертикальному шесту высотой `h` метров, поднимаясь за день на `a` метров, а за ночь спускаясь на `b` метров. На какой день улитка доползет до вершины шеста?\n",
    "\n",
    "**Input data**\n",
    "Программа получает на вход три неотрицательных целых числа — `h`, `a`, `b`. Гарантируется, что `a > b`.\n",
    "\n",
    "**Output data**\n",
    "Программа должна вывести одно число."
   ]
  },
  {
   "cell_type": "code",
   "execution_count": 17,
   "id": "8fe4fcfe-51c1-4096-813b-b4dd15fdd0d9",
   "metadata": {},
   "outputs": [
    {
     "name": "stdin",
     "output_type": "stream",
     "text": [
      " 10\n",
      " 3\n",
      " 2\n"
     ]
    },
    {
     "name": "stdout",
     "output_type": "stream",
     "text": [
      "8\n"
     ]
    }
   ],
   "source": [
    "def get_day(h, a, b):\n",
    "    counter = 0\n",
    "    while True:\n",
    "        counter += 1\n",
    "        h -= a\n",
    "        if h <= 0:\n",
    "            break\n",
    "        h += b\n",
    "    return counter\n",
    "\n",
    "h = int(input())\n",
    "a = int(input())\n",
    "b = int(input())\n",
    "day = get_day(h, a, b)\n",
    "print(day)\n",
    "\n",
    "assert get_day(10, 3, 2) == 8"
   ]
  },
  {
   "cell_type": "markdown",
   "id": "328bc275-5292-45bf-bf81-63bd799d91ec",
   "metadata": {},
   "source": [
    "## Дележ яблок - 3"
   ]
  },
  {
   "cell_type": "markdown",
   "id": "eb9ecc96-9381-4f2f-b082-d457bb530e4c",
   "metadata": {},
   "source": [
    "`n` школьников делят `k` яблок “поровну”, то есть так, чтобы количество яблок, доставшихся любым двум школьникам, отличалось бы не более, чем на `1`.  \n",
    "При решении этой задачи нельзя пользоваться условной инструкцией if и циклами.\n",
    "\n",
    "**Input data**\n",
    "Программа получает на вход числа `n` и `k`.\n",
    "\n",
    "**Output data**\n",
    "Программа должна вывести количество школьников, которым достанется яблок меньше, чем некоторым из их товарищей.\n"
   ]
  },
  {
   "cell_type": "code",
   "execution_count": 20,
   "id": "70622172-da8c-47b9-83f5-ba81375cbf89",
   "metadata": {},
   "outputs": [
    {
     "name": "stdin",
     "output_type": "stream",
     "text": [
      " 7\n",
      " 30\n"
     ]
    },
    {
     "name": "stdout",
     "output_type": "stream",
     "text": [
      "5\n"
     ]
    }
   ],
   "source": [
    "def get_pupils(n, k):\n",
    "    left_apples = k % n\n",
    "    pupils = (n - left_apples) % n\n",
    "    return pupils\n",
    "\n",
    "n = int(input())\n",
    "k = int(input())\n",
    "\n",
    "pupils = get_pupils(n, k)\n",
    "print(pupils)\n",
    "\n",
    "assert get_pupils(7, 30) == 5\n",
    "assert get_pupils(7, 28) == 0\n",
    "assert get_pupils(7, 35) == 0\n",
    "assert get_pupils(7, 34) == 1"
   ]
  },
  {
   "cell_type": "markdown",
   "id": "811f783b-98e3-49df-8aea-1048da951a65",
   "metadata": {},
   "source": [
    "## Шнурки"
   ]
  },
  {
   "cell_type": "markdown",
   "id": "ff125d8e-899e-4119-9379-7eaaa33fa7fa",
   "metadata": {},
   "source": [
    "Обувная фабрика собирается начать выпуск элитной модели ботинок. Дырочки для шнуровки будут расположены в два ряда, расстояние между рядами равно `a`, а расстояние между дырочками в ряду `b`. Количество дырочек в каждом ряду равно `N`. Шнуровка должна происходить элитным способом “наверх, по горизонтали в другой ряд, наверх, по горизонтали и т.д.” (см. рисунок). Кроме того, чтобы шнурки можно было завязать элитным бантиком, длина свободного конца шнурка должна быть `l`. Какова должна быть длина шнурка для этих ботинок?  \n",
    "\n",
    "![](http://informatics.mccme.ru/moodle_probpics/3466/3466.gif)  \n",
    "**Input data**\n",
    "Программа получает на вход четыре натуральных числа `a`, `b`, `l` и `N`.  \n",
    "\n",
    "**Output data**\n",
    "Программа должна выводить одно число – искомую длину шнурка.\n"
   ]
  },
  {
   "cell_type": "code",
   "execution_count": 6,
   "id": "1f05d737-f8aa-4b93-aa21-c799155e4ae9",
   "metadata": {},
   "outputs": [
    {
     "name": "stdin",
     "output_type": "stream",
     "text": [
      " 2\n",
      " 1\n",
      " 3\n",
      " 4\n"
     ]
    },
    {
     "name": "stdout",
     "output_type": "stream",
     "text": [
      "26\n"
     ]
    }
   ],
   "source": [
    "def get_lace_length(a, b, l, n):\n",
    "    return 2 * l + 2 * (n - 1) * (a + b) + a\n",
    "\n",
    "a = int(input())\n",
    "b = int(input())\n",
    "l = int(input())\n",
    "n = int(input())\n",
    "\n",
    "lace_length = get_lace_length(a, b, l, n)\n",
    "print(lace_length)\n",
    "\n",
    "assert get_lace_length(2, 1, 3, 4) == 26"
   ]
  },
  {
   "cell_type": "markdown",
   "id": "2f8af7a4-2620-4403-a028-0da9350a9927",
   "metadata": {},
   "source": [
    "## Конец уроков"
   ]
  },
  {
   "cell_type": "markdown",
   "id": "094aefb2-76f0-4cc1-8048-1cd911119a9d",
   "metadata": {},
   "source": [
    "В некоторой школе занятия начинаются в 9:00. Продолжительность урока — 45 минут, после 1-го, 3-го, 5-го и т.д. уроков перемена 5 минут, а после 2-го, 4-го, 6-го и т.д. — 15 минут.  \n",
    "\n",
    "**Input data**\n",
    "Дан номер урока (число от 1 до 10). Определите, когда заканчивается указанный урок.\n",
    "\n",
    "**Output data**\n",
    "Выведите два целых числа: время окончания урока в часах и минутах.\n"
   ]
  },
  {
   "cell_type": "code",
   "execution_count": 44,
   "id": "14892149-109a-49d2-8b37-d14c1bb27c5e",
   "metadata": {},
   "outputs": [
    {
     "name": "stdin",
     "output_type": "stream",
     "text": [
      " 5\n"
     ]
    },
    {
     "name": "stdout",
     "output_type": "stream",
     "text": [
      "13 25\n"
     ]
    }
   ],
   "source": [
    "def get_lesson_end_time(n):\n",
    "    lesson_length = 45\n",
    "    odd_lesson_break = 5\n",
    "    even_lesson_break = 15\n",
    "    start_of_the_day = 9 * 60\n",
    "\n",
    "    num_odd_breaks = n // 2\n",
    "    num_even_breaks = n // 2 if n % 2 != 0 else n // 2 - 1\n",
    "    lesson_end_time = (\n",
    "        start_of_the_day\n",
    "        + n * lesson_length\n",
    "        + num_even_breaks * even_lesson_break\n",
    "        + num_odd_breaks * odd_lesson_break\n",
    "    )\n",
    "\n",
    "    hour = lesson_end_time // 60\n",
    "    minutes = lesson_end_time % 60\n",
    "\n",
    "    return hour, minutes\n",
    "\n",
    "\n",
    "n = int(input())\n",
    "\n",
    "lesson_end_time = get_lesson_end_time(n)\n",
    "print(*lesson_end_time)\n",
    "\n",
    "assert get_lesson_end_time(3) == (11, 35)"
   ]
  },
  {
   "cell_type": "code",
   "execution_count": null,
   "id": "54f139bb-8563-4f3d-8918-65115546f4d6",
   "metadata": {},
   "outputs": [],
   "source": []
  }
 ],
 "metadata": {
  "kernelspec": {
   "display_name": "algoprog",
   "language": "python",
   "name": "algoprog"
  },
  "language_info": {
   "codemirror_mode": {
    "name": "ipython",
    "version": 3
   },
   "file_extension": ".py",
   "mimetype": "text/x-python",
   "name": "python",
   "nbconvert_exporter": "python",
   "pygments_lexer": "ipython3",
   "version": "3.8.10"
  }
 },
 "nbformat": 4,
 "nbformat_minor": 5
}
