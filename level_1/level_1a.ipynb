{
 "cells": [
  {
   "cell_type": "markdown",
   "id": "d67a793e-5e08-4913-9f51-32316e35ccca",
   "metadata": {},
   "source": [
    "# Tasks about arithmetic operations"
   ]
  },
  {
   "cell_type": "markdown",
   "id": "a04ee68a-f256-4bf1-80a0-52619559dbbb",
   "metadata": {
    "tags": []
   },
   "source": [
    "## Sharing apples # 1"
   ]
  },
  {
   "cell_type": "markdown",
   "id": "ac5882bb-2204-460e-b67a-fc84facaa364",
   "metadata": {},
   "source": [
    "**N** schoolchildren divide **K** apples equally, the non-dividing remainder remains in the basket. How many apples will each student get?\n",
    "\n",
    "**Input data**\n",
    "The program receives the natural numbers N and K.\n",
    "\n",
    "**Output data**\n",
    "The program should output the desired number of apples."
   ]
  },
  {
   "cell_type": "code",
   "execution_count": 1,
   "id": "ce2c4b4f-8a0a-4fbd-a3e1-a8890be136d9",
   "metadata": {},
   "outputs": [
    {
     "name": "stdin",
     "output_type": "stream",
     "text": [
      " 3\n",
      " 14\n"
     ]
    },
    {
     "name": "stdout",
     "output_type": "stream",
     "text": [
      "4\n"
     ]
    }
   ],
   "source": [
    "n = int(input())\n",
    "k = int(input())\n",
    "\n",
    "print(k // n)"
   ]
  },
  {
   "cell_type": "markdown",
   "id": "ab62a615-e4c3-4c94-88b0-63c0686ba12e",
   "metadata": {
    "tags": []
   },
   "source": [
    "## Sharing apples # 2"
   ]
  },
  {
   "cell_type": "markdown",
   "id": "b3181266-a51b-4a34-bd0c-e7c4a6924dc0",
   "metadata": {},
   "source": [
    "**N** schoolchildren divide **K** apples equally, the non-dividing remainder remains in the basket. How many apples will remain in the basket?\n",
    "\n",
    "**Input data**\n",
    "The program receives the natural numbers N and K.\n",
    "\n",
    "**Output data**\n",
    "The program should output the desired number of apples."
   ]
  },
  {
   "cell_type": "code",
   "execution_count": 2,
   "id": "2fb23ccf-9085-49f5-892b-5fc27adee9d2",
   "metadata": {},
   "outputs": [
    {
     "name": "stdin",
     "output_type": "stream",
     "text": [
      " 3\n",
      " 14\n"
     ]
    },
    {
     "name": "stdout",
     "output_type": "stream",
     "text": [
      "2\n"
     ]
    }
   ],
   "source": [
    "n = int(input())\n",
    "k = int(input())\n",
    "\n",
    "print(k % n)"
   ]
  },
  {
   "cell_type": "markdown",
   "id": "be8f92b2-7431-41c6-a07f-55d144283f97",
   "metadata": {
    "tags": []
   },
   "source": [
    "## Last digit"
   ]
  },
  {
   "cell_type": "markdown",
   "id": "d46f022d-d0c3-4681-84e6-b78a35a58c07",
   "metadata": {},
   "source": [
    "Given a natural number. Print its last digit.\n",
    "\n",
    "**Input data**\n",
    "A natural number is entered.\n",
    "\n",
    "**Output data**\n",
    "Print the answer to the problem."
   ]
  },
  {
   "cell_type": "code",
   "execution_count": 3,
   "id": "98834c2c-6190-4182-91b1-5e9bdf23214a",
   "metadata": {},
   "outputs": [
    {
     "name": "stdin",
     "output_type": "stream",
     "text": [
      " 123\n"
     ]
    },
    {
     "name": "stdout",
     "output_type": "stream",
     "text": [
      "3\n"
     ]
    }
   ],
   "source": [
    "n = int(input())\n",
    "\n",
    "print(n % 10)"
   ]
  },
  {
   "cell_type": "markdown",
   "id": "97b137f9-8b1a-493f-a2e3-b6431fe175a6",
   "metadata": {
    "tags": []
   },
   "source": [
    "## The number of tens of a two-digit number"
   ]
  },
  {
   "cell_type": "markdown",
   "id": "ceb599d3-1c0d-4ca4-a05e-85113a1298cc",
   "metadata": {},
   "source": [
    "A two-digit number is given. Find the number of tens in it.\n",
    "\n",
    "**Input data**\n",
    "A two-digit number is entered.\n",
    "\n",
    "**Output data**\n",
    "Print the answer to the problem."
   ]
  },
  {
   "cell_type": "code",
   "execution_count": 2,
   "id": "420319c5-dd96-4c19-b506-dc6d51841de4",
   "metadata": {},
   "outputs": [
    {
     "name": "stdin",
     "output_type": "stream",
     "text": [
      " 78\n"
     ]
    },
    {
     "name": "stdout",
     "output_type": "stream",
     "text": [
      "7\n"
     ]
    }
   ],
   "source": [
    "n = int(input())\n",
    "\n",
    "print(n // 10)"
   ]
  },
  {
   "cell_type": "markdown",
   "id": "84aaa272-7f91-4f87-b3e0-578f5cfc2077",
   "metadata": {
    "tags": []
   },
   "source": [
    "## The number of tens"
   ]
  },
  {
   "cell_type": "markdown",
   "id": "459a0187-d4f0-4bb0-ba25-c0f3b44f72b7",
   "metadata": {},
   "source": [
    "Given a non-negative integer. Find the number of tens in its decimal notation (that is, the second digit from the right of its decimal notation).\n",
    "\n",
    "**Input data**\n",
    "A non-negative integer is entered.\n",
    "\n",
    "**Output data**\n",
    "Print the answer to the problem."
   ]
  },
  {
   "cell_type": "code",
   "execution_count": 3,
   "id": "12bbf348-fe98-4d99-b2c3-7a123540872b",
   "metadata": {},
   "outputs": [
    {
     "name": "stdin",
     "output_type": "stream",
     "text": [
      " 1589\n"
     ]
    },
    {
     "name": "stdout",
     "output_type": "stream",
     "text": [
      "8\n"
     ]
    }
   ],
   "source": [
    "n = int(input())\n",
    "\n",
    "print(n % 100 // 10)"
   ]
  },
  {
   "cell_type": "markdown",
   "id": "bc6be933-2d72-4ffa-9a10-7b48bf834155",
   "metadata": {
    "tags": []
   },
   "source": [
    "## Sum of digits"
   ]
  },
  {
   "cell_type": "markdown",
   "id": "8a2e7754-f83f-4ad0-903a-59f6d738c792",
   "metadata": {},
   "source": [
    "Given a three digit number. You can see the sum of its numbers.\n",
    "\n",
    "**Input data**\n",
    "Enter a three-digit number.\n",
    "\n",
    "**Output data**\n",
    "Print the answer to the problem."
   ]
  },
  {
   "cell_type": "code",
   "execution_count": 1,
   "id": "16c796ef-89f4-4940-87e2-338fa2420cb7",
   "metadata": {},
   "outputs": [
    {
     "name": "stdin",
     "output_type": "stream",
     "text": [
      " 179\n"
     ]
    },
    {
     "name": "stdout",
     "output_type": "stream",
     "text": [
      "17\n"
     ]
    }
   ],
   "source": [
    "n = int(input())\n",
    "\n",
    "print(n // 100 + (n % 100) // 10 + n % 10)"
   ]
  },
  {
   "cell_type": "markdown",
   "id": "d3662af5-394a-4471-8f22-c3f5c3327c0d",
   "metadata": {
    "tags": []
   },
   "source": [
    "## Electronic clock - 1"
   ]
  },
  {
   "cell_type": "markdown",
   "id": "450d9a8b-e051-4029-8d05-199a034c623f",
   "metadata": {},
   "source": [
    "Number **N** is given. N minutes have passed since the beginning of the day. Determine how many hours and minutes the digital clock will show at this moment. The program should output two numbers: the number of hours (from 0 to 23) and the number of minutes (from 0 to 59).  \n",
    "*Note that the number n can be greater than the number of minutes in a day.*\n",
    "\n",
    "**Input data**\n",
    "Enter a three-digit number.\n",
    "\n",
    "**Output data**\n",
    "Print the answer to the problem."
   ]
  },
  {
   "cell_type": "code",
   "execution_count": 6,
   "id": "433ff9e8-3b33-4733-a6ac-957d096af8b9",
   "metadata": {},
   "outputs": [
    {
     "name": "stdin",
     "output_type": "stream",
     "text": [
      " 1441\n"
     ]
    },
    {
     "name": "stdout",
     "output_type": "stream",
     "text": [
      "0 1\n"
     ]
    }
   ],
   "source": [
    "n = int(input())\n",
    "\n",
    "print(n // 60 % 24, n % 60)"
   ]
  },
  {
   "cell_type": "markdown",
   "id": "cd32fa0d-458e-4996-9755-6b22e01ca5a7",
   "metadata": {
    "tags": []
   },
   "source": [
    "## Purchase cost"
   ]
  },
  {
   "cell_type": "markdown",
   "id": "a63fe151-bbc6-4817-94ed-149a92a2cee8",
   "metadata": {},
   "source": [
    "A pie in the cafeteria costs **a** rubles and **b** kopecks. Determine how many rubles and kopecks you need to pay for **n** pies.\n",
    "\n",
    "**Input data**\n",
    "The program receives three numbers as input: a, b, n.\n",
    "\n",
    "**Output data**\n",
    "The program should display two numbers: the cost of the purchase in rubles and kopecks."
   ]
  },
  {
   "cell_type": "code",
   "execution_count": 7,
   "id": "befac545-3575-4ca3-89e7-1923f06834b4",
   "metadata": {},
   "outputs": [
    {
     "name": "stdin",
     "output_type": "stream",
     "text": [
      " 10\n",
      " 20\n",
      " 2\n"
     ]
    },
    {
     "name": "stdout",
     "output_type": "stream",
     "text": [
      "20 40\n"
     ]
    }
   ],
   "source": [
    "a, b, n = int(input()), int(input()), int(input())\n",
    "rubles = a * n + b * n // 100\n",
    "cents = b * n % 100\n",
    "\n",
    "print(rubles, cents)"
   ]
  },
  {
   "cell_type": "markdown",
   "id": "449ce90f-004a-4d36-8049-4639f31cafd3",
   "metadata": {
    "tags": []
   },
   "source": [
    "## Time difference"
   ]
  },
  {
   "cell_type": "markdown",
   "id": "3acb99a5-ca34-4c4f-8f66-3640bc0fb31a",
   "metadata": {},
   "source": [
    "The values of two points of time belonging to the same day are given: hours, minutes and seconds for each of the points of time. It is known that the second moment of time came not earlier than the first. Determine how many seconds elapsed between two points in time.\n",
    "\n",
    "**Input data**\n",
    "The input program receives three integers - hours, minutes, seconds, specifying the first moment of time and three integers, specifying the second moment of time.\n",
    "\n",
    "**Output data**\n",
    "Print the number of seconds between these times."
   ]
  },
  {
   "cell_type": "code",
   "execution_count": 1,
   "id": "7c8e2d6b-169a-495e-820d-130e9042c9fe",
   "metadata": {},
   "outputs": [
    {
     "name": "stdin",
     "output_type": "stream",
     "text": [
      " 1\n",
      " 1\n",
      " 1\n",
      " 2\n",
      " 2\n",
      " 2\n"
     ]
    },
    {
     "name": "stdout",
     "output_type": "stream",
     "text": [
      "3661\n"
     ]
    }
   ],
   "source": [
    "h1, m1, s1 = int(input()), int(input()), int(input())\n",
    "h2, m2, s2 = int(input()), int(input()), int(input())\n",
    "time_difference = (h2 - h1) * 60 * 60 + (m2 - m1) * 60 + (s2 - s1)\n",
    "\n",
    "print(time_difference)"
   ]
  },
  {
   "cell_type": "markdown",
   "id": "464021f4-f856-420e-9a97-a1d6fa9290a8",
   "metadata": {
    "tags": []
   },
   "source": [
    "## Hupotenuse"
   ]
  },
  {
   "cell_type": "markdown",
   "id": "e54ce5b1-cc6d-4c0f-99b1-f58e5defcbe1",
   "metadata": {},
   "source": [
    "You are given two numbers **a** and **b**. Find the hypotenuse of a right triangle with given legs.\n",
    "\n",
    "**Input data**\n",
    "In two lines, two numbers are entered (numbers are integer, positive, do not exceed 1000).\n",
    "\n",
    "**Output data**\n",
    "Output the answer to the problem."
   ]
  },
  {
   "cell_type": "code",
   "execution_count": 3,
   "id": "e04dd307-6aee-493e-b07d-15ef28c4ce29",
   "metadata": {},
   "outputs": [
    {
     "name": "stdin",
     "output_type": "stream",
     "text": [
      " 3\n",
      " 4\n"
     ]
    },
    {
     "name": "stdout",
     "output_type": "stream",
     "text": [
      "5.0\n"
     ]
    }
   ],
   "source": [
    "a, b = int(input()), int(input())\n",
    "c = (a ** 2 + b ** 2) ** 0.5\n",
    "\n",
    "print(c)"
   ]
  },
  {
   "cell_type": "markdown",
   "id": "b4ce405d-514c-4bc5-9d0d-945ec811baf6",
   "metadata": {
    "tags": []
   },
   "source": [
    "## Next and previous"
   ]
  },
  {
   "cell_type": "markdown",
   "id": "f5a99b1f-b092-4cf2-af80-dd55008b4e21",
   "metadata": {},
   "source": [
    "Write a program that reads an integer and outputs text similar to the one in the example. Spaces, punctuation marks, uppercase and lowercase letters are important!\n",
    "\n",
    "**Input data**\n",
    "An integer is entered, modulo not exceeding 10000.\n",
    "\n",
    "**Output data**\n",
    "Print first the phrase \"The next number for the number \", then the entered number, then the word \" is \" surrounded by spaces, then the formula for the number following the entered number, and finally the period sign without a space. Similarly in the next line for the previous number."
   ]
  },
  {
   "cell_type": "code",
   "execution_count": 4,
   "id": "a3784155-ba24-437d-9a5b-bc7448608dd2",
   "metadata": {},
   "outputs": [
    {
     "name": "stdin",
     "output_type": "stream",
     "text": [
      " 179\n"
     ]
    },
    {
     "name": "stdout",
     "output_type": "stream",
     "text": [
      "The next number for the number 179 is 180.\n",
      "The previous number for the number 179 is 178.\n"
     ]
    }
   ],
   "source": [
    "n = int(input())\n",
    "\n",
    "print(f\"The next number for the number {n} is {n + 1}.\")\n",
    "print(f\"The previous number for the number {n} is {n - 1}.\")"
   ]
  },
  {
   "cell_type": "markdown",
   "id": "464945bf-806a-4fda-899a-43898dae8618",
   "metadata": {},
   "source": [
    "# Conditional operator tasks"
   ]
  },
  {
   "cell_type": "markdown",
   "id": "861747b8-d078-4764-9798-d7d86a198b1e",
   "metadata": {
    "tags": []
   },
   "source": [
    "## Maximum of two numbers"
   ]
  },
  {
   "cell_type": "markdown",
   "id": "7d65d404-ab68-42db-8d79-3b12ecbcfe52",
   "metadata": {},
   "source": [
    "**Input data**\n",
    "Two integers are given, each number is written in a separate line.\n",
    "\n",
    "**Output data**\n",
    "Print the largest of these numbers."
   ]
  },
  {
   "cell_type": "code",
   "execution_count": 2,
   "id": "7cd396e5-bf86-47d5-9a2a-8e623ed9e927",
   "metadata": {},
   "outputs": [
    {
     "name": "stdin",
     "output_type": "stream",
     "text": [
      " 12\n",
      " 13\n"
     ]
    },
    {
     "name": "stdout",
     "output_type": "stream",
     "text": [
      "13\n"
     ]
    }
   ],
   "source": [
    "a = int(input())\n",
    "b = int(input())\n",
    "\n",
    "max_num = b if b > a else a\n",
    "\n",
    "print(max_num)"
   ]
  },
  {
   "cell_type": "markdown",
   "id": "6f3291ee-6049-478e-a960-ed5183e855e0",
   "metadata": {
    "tags": []
   },
   "source": [
    "## Maximum of two numbers - id"
   ]
  },
  {
   "cell_type": "markdown",
   "id": "e61124d7-807c-417d-8493-6a045296bb7b",
   "metadata": {},
   "source": [
    "**Input data**\n",
    "Two integers are given, each number is written in a separate line.\n",
    "\n",
    "**Output data**\n",
    "The program should output the number 1 if the first number is greater than the second, the number 2 if the second is greater than the first, or the number 0 if they are equal."
   ]
  },
  {
   "cell_type": "code",
   "execution_count": 3,
   "id": "ff3f113d-646d-492d-8435-4633a32cb521",
   "metadata": {},
   "outputs": [
    {
     "name": "stdin",
     "output_type": "stream",
     "text": [
      " 12\n",
      " 156\n"
     ]
    },
    {
     "name": "stdout",
     "output_type": "stream",
     "text": [
      "2\n"
     ]
    }
   ],
   "source": [
    "a = int(input())\n",
    "b = int(input())\n",
    "\n",
    "if a > b:\n",
    "    max_num = 1\n",
    "elif b > a:\n",
    "    max_num = 2\n",
    "else:\n",
    "    max_num = 0\n",
    "\n",
    "print(max_num)"
   ]
  },
  {
   "cell_type": "markdown",
   "id": "c7a7cdb1-26fa-40ac-9e46-a27db4e1068e",
   "metadata": {
    "tags": []
   },
   "source": [
    "## Number sign"
   ]
  },
  {
   "cell_type": "markdown",
   "id": "cc7bfdf3-df34-4b2f-a407-cf048cf7fc58",
   "metadata": {},
   "source": [
    "In mathematics, the concept of the sign of a number is defined as follows: if a number is less than zero, then its sign is -1, if a number is zero, then its sign is 0, if a number is greater than zero, then its sign is 1.\n",
    "\n",
    "For a given number x, print its sign.  \n",
    "**Input data**\n",
    "The number x is entered.\n",
    "\n",
    "**Output data**\n",
    "Print the answer to the problem."
   ]
  },
  {
   "cell_type": "code",
   "execution_count": 4,
   "id": "162ba79c-51a6-420a-a1b9-d639aba93e0c",
   "metadata": {},
   "outputs": [
    {
     "name": "stdin",
     "output_type": "stream",
     "text": [
      " 156\n"
     ]
    },
    {
     "name": "stdout",
     "output_type": "stream",
     "text": [
      "1\n"
     ]
    }
   ],
   "source": [
    "x = int(input())\n",
    "\n",
    "if x > 0:\n",
    "    sign = 1\n",
    "elif x < 0:\n",
    "    sign = -1\n",
    "else:\n",
    "    sign = 0\n",
    "\n",
    "print(sign)"
   ]
  },
  {
   "cell_type": "markdown",
   "id": "b4ae6572-8a9b-4b96-bc63-5b706f5691c2",
   "metadata": {
    "tags": []
   },
   "source": [
    "## Maximum of three numbers"
   ]
  },
  {
   "cell_type": "markdown",
   "id": "b1d0bd0d-161b-4326-9c35-40664ed41ebe",
   "metadata": {},
   "source": [
    "**Input data**\n",
    "Three integers are given, each written in a separate line.\n",
    "\n",
    "**Output data**\n",
    "Print the largest of these numbers (the program should output exactly one integer)."
   ]
  },
  {
   "cell_type": "code",
   "execution_count": 5,
   "id": "422f1f68-ab67-4f9c-84ca-c87a3854db7a",
   "metadata": {},
   "outputs": [
    {
     "name": "stdin",
     "output_type": "stream",
     "text": [
      " 12\n",
      " 13\n",
      " 14\n"
     ]
    },
    {
     "name": "stdout",
     "output_type": "stream",
     "text": [
      "14\n"
     ]
    }
   ],
   "source": [
    "a = int(input())\n",
    "b = int(input())\n",
    "c = int(input())\n",
    "\n",
    "max_ab = b if b > a else a\n",
    "max_abc = c if c > max_ab else max_ab\n",
    "\n",
    "print(max_abc)"
   ]
  },
  {
   "cell_type": "markdown",
   "id": "69917a04-6ea5-42b1-b308-6e1fd88e766f",
   "metadata": {
    "tags": []
   },
   "source": [
    "## Leap year"
   ]
  },
  {
   "cell_type": "markdown",
   "id": "fadc3d3b-a218-44a4-87ab-2c769f7aec55",
   "metadata": {},
   "source": [
    "It is required to determine whether this year is a leap year. (Recall that a year is a leap year if its number is a multiple of 4, but not a multiple of 100, and also if it is a multiple of 400.)  \n",
    "\n",
    "**Input data**\n",
    "A singular number is entered - the year number (a positive integer, not exceeding 30,000).\n",
    "\n",
    "**Output data**\n",
    "A singular number is entered - the year number (a positive integer, not exceeding 30,000)."
   ]
  },
  {
   "cell_type": "code",
   "execution_count": 6,
   "id": "1ee1d11a-5a53-4c60-b399-06de21634bfd",
   "metadata": {},
   "outputs": [
    {
     "name": "stdin",
     "output_type": "stream",
     "text": [
      " 2012\n"
     ]
    },
    {
     "name": "stdout",
     "output_type": "stream",
     "text": [
      "YES\n"
     ]
    }
   ],
   "source": [
    "year = int(input())\n",
    "\n",
    "result = \"YES\" if (year % 4 == 0 and not year % 100 == 0) or (year % 400 == 0) else \"NO\"\n",
    "\n",
    "print(result)"
   ]
  },
  {
   "cell_type": "markdown",
   "id": "21a21aba-519e-43ae-9640-fe55f44a76b4",
   "metadata": {},
   "source": [
    "# Tasks about loops"
   ]
  },
  {
   "cell_type": "markdown",
   "id": "3ec5923c-d01b-4c8b-ab9c-da64db442cf5",
   "metadata": {
    "tags": []
   },
   "source": [
    "## Even numbers"
   ]
  },
  {
   "cell_type": "markdown",
   "id": "c1c1dc68-cc6d-42e5-983b-ae3928b90643",
   "metadata": {},
   "source": [
    "**Input data**\n",
    "Integers a and b are entered. It is guaranteed that a does not exceed b\n",
    "\n",
    "**Output data**\n",
    "Print (separated by a space) all even numbers from a to b (inclusive)."
   ]
  },
  {
   "cell_type": "code",
   "execution_count": 7,
   "id": "2c469ab9-fa40-4f2f-9aa5-8fccc5ba26ce",
   "metadata": {},
   "outputs": [
    {
     "name": "stdin",
     "output_type": "stream",
     "text": [
      " 2\n",
      " 5\n"
     ]
    },
    {
     "name": "stdout",
     "output_type": "stream",
     "text": [
      "2 4 "
     ]
    }
   ],
   "source": [
    "a = int(input())\n",
    "b = int(input())\n",
    "\n",
    "for num in range(a, b + 1):\n",
    "    if num % 2 == 0:\n",
    "        print(num, end=\" \")"
   ]
  },
  {
   "cell_type": "markdown",
   "id": "09457c2b-7948-4359-b719-d95307beca1d",
   "metadata": {
    "tags": []
   },
   "source": [
    "## Factorial"
   ]
  },
  {
   "cell_type": "markdown",
   "id": "340ce12c-0bcd-4e65-a0e9-3b55018c7fcd",
   "metadata": {},
   "source": [
    "Calculate N! (\"en-factorial\") is the product of all natural numbers from 1 to N (N!=1∙2∙3∙...∙ N ).  \n",
    "\n",
    "**Input data**\n",
    "The singular number N is entered - natural, does not exceed 12.\n",
    "\n",
    "**Output data**\n",
    "Print the resulting value of N!"
   ]
  },
  {
   "cell_type": "code",
   "execution_count": 8,
   "id": "78e1b885-b286-447d-9c12-94fbb006fe3a",
   "metadata": {},
   "outputs": [
    {
     "name": "stdin",
     "output_type": "stream",
     "text": [
      " 12\n"
     ]
    },
    {
     "name": "stdout",
     "output_type": "stream",
     "text": [
      "479001600\n"
     ]
    }
   ],
   "source": [
    "n = int(input())\n",
    "n_factorial = 1\n",
    "for num in range(1, n + 1):\n",
    "    n_factorial *= num\n",
    "\n",
    "print(n_factorial)"
   ]
  },
  {
   "cell_type": "markdown",
   "id": "52fe20dd-13d4-4f17-b96c-0e372c6170aa",
   "metadata": {
    "tags": []
   },
   "source": [
    "## Sum of squares"
   ]
  },
  {
   "cell_type": "markdown",
   "id": "7294468f-a038-42fa-a1d2-7c5e3acb2f11",
   "metadata": {},
   "source": [
    "For this natural n, calculate the sum of $1^2+2^2+ ...+n^2$.  \n",
    "\n",
    "**Input data**\n",
    "A single natural number **n**, not exceeding 100, is introduced\n",
    "\n",
    "**Output data**\n",
    "It is necessary to withdraw the calculated amount."
   ]
  },
  {
   "cell_type": "code",
   "execution_count": 1,
   "id": "ca74102f-0aa9-4be6-bedb-00acfc86b137",
   "metadata": {},
   "outputs": [
    {
     "name": "stdin",
     "output_type": "stream",
     "text": [
      " 5\n"
     ]
    },
    {
     "name": "stdout",
     "output_type": "stream",
     "text": [
      "55\n"
     ]
    }
   ],
   "source": [
    "n = int(input())\n",
    "sum_squares = sum([num ** 2 for num in range(1, n + 1)])\n",
    "\n",
    "print(sum_squares)"
   ]
  },
  {
   "cell_type": "markdown",
   "id": "e82def49-f4d5-46c6-9822-f8fda9df1477",
   "metadata": {
    "tags": []
   },
   "source": [
    "## Number divisors"
   ]
  },
  {
   "cell_type": "markdown",
   "id": "18d27224-8549-431e-bf0d-3db33e53cb36",
   "metadata": {},
   "source": [
    "Print all natural divisors of the number x in ascending order (including 1 and the number itself).\n",
    "\n",
    "**Input data**\n",
    "The natural number x is entered\n",
    "\n",
    "**Output data**\n",
    "Print all the divisors of the number x"
   ]
  },
  {
   "cell_type": "code",
   "execution_count": 5,
   "id": "779e00c3-bcf9-45e7-945a-a4a3a7612e85",
   "metadata": {},
   "outputs": [
    {
     "name": "stdin",
     "output_type": "stream",
     "text": [
      " 32\n"
     ]
    },
    {
     "name": "stdout",
     "output_type": "stream",
     "text": [
      "1 2 4 8 16 32\n"
     ]
    }
   ],
   "source": [
    "n = int(input())\n",
    "num_divisors = [str(num) for num in range(1, n + 1) if n % num == 0 ]\n",
    "\n",
    "print(\" \".join(num_divisors))"
   ]
  },
  {
   "cell_type": "markdown",
   "id": "0524635f-a07d-4f31-81bd-1d3c22d3576a",
   "metadata": {
    "tags": []
   },
   "source": [
    "## Zero or not zero"
   ]
  },
  {
   "cell_type": "markdown",
   "id": "ed2621c0-fea1-4f13-9556-57531739ba1b",
   "metadata": {},
   "source": [
    "Check if there are zeros among the given N numbers.\n",
    "\n",
    "**Input data**\n",
    "The number N is entered, followed by N integers.\n",
    "\n",
    "**Output data**\n",
    "Print YES if there is at least one zero among the entered numbers, or NO otherwise."
   ]
  },
  {
   "cell_type": "code",
   "execution_count": 9,
   "id": "e9ec8983-5b34-42ed-a7fe-809d8d3c6160",
   "metadata": {},
   "outputs": [
    {
     "name": "stdin",
     "output_type": "stream",
     "text": [
      " 3\n",
      " 10\n",
      " 11\n",
      " 0\n"
     ]
    },
    {
     "name": "stdout",
     "output_type": "stream",
     "text": [
      "YES\n"
     ]
    }
   ],
   "source": [
    "n = int(input())\n",
    "res = \"NO\"\n",
    "for _ in range(0, n):\n",
    "    num = int(input())\n",
    "    if num == 0:\n",
    "        res = \"YES\"\n",
    "        break\n",
    "print(res)"
   ]
  },
  {
   "cell_type": "markdown",
   "id": "d022dec7-bc28-4068-9391-b98baa36be97",
   "metadata": {
    "tags": []
   },
   "source": [
    "## List of squares"
   ]
  },
  {
   "cell_type": "markdown",
   "id": "1321a38d-0412-43b2-bcb3-78a8311c7322",
   "metadata": {},
   "source": [
    "Print all the exact squares of natural numbers that do not exceed a given number N.\n",
    "\n",
    "**Input data**\n",
    "A single integer N is given\n",
    "\n",
    "**Output data**\n",
    "It is necessary to deduce all the exact squares of natural numbers that do not exceed a given number N."
   ]
  },
  {
   "cell_type": "code",
   "execution_count": 1,
   "id": "de386dfc-79e5-4733-8fd5-51987bb1718b",
   "metadata": {},
   "outputs": [
    {
     "name": "stdin",
     "output_type": "stream",
     "text": [
      " 15\n"
     ]
    },
    {
     "name": "stdout",
     "output_type": "stream",
     "text": [
      "1 4 9 "
     ]
    }
   ],
   "source": [
    "n = int(input())\n",
    "num = 1\n",
    "while num ** 2 <= n:\n",
    "    print(num ** 2, end=\" \")\n",
    "    num += 1"
   ]
  },
  {
   "cell_type": "markdown",
   "id": "a9ba8598-8eef-43e8-8820-d3a87ade562b",
   "metadata": {
    "tags": []
   },
   "source": [
    "## Minimum divisor"
   ]
  },
  {
   "cell_type": "markdown",
   "id": "aa6c091a-e846-43a1-b0da-cbeccdedc554",
   "metadata": {},
   "source": [
    "An integer not less than 2 is given. Output its smallest natural divisor other than 1.\n",
    "\n",
    "**Input data**\n",
    "A natural number is entered.\n",
    "\n",
    "**Output data**\n",
    "Print the answer to the problem."
   ]
  },
  {
   "cell_type": "code",
   "execution_count": 2,
   "id": "fda04007-bddf-4ad3-b9c9-90af71021a2a",
   "metadata": {},
   "outputs": [
    {
     "name": "stdin",
     "output_type": "stream",
     "text": [
      " 15\n"
     ]
    },
    {
     "name": "stdout",
     "output_type": "stream",
     "text": [
      "3\n"
     ]
    }
   ],
   "source": [
    "n = int(input())\n",
    "divisor = 2\n",
    "while n % divisor != 0:\n",
    "    divisor += 1\n",
    "print(divisor)"
   ]
  },
  {
   "cell_type": "markdown",
   "id": "4c497d43-2276-4a16-85ce-fbd1377357ab",
   "metadata": {
    "tags": []
   },
   "source": [
    "## Sequence length"
   ]
  },
  {
   "cell_type": "markdown",
   "id": "e5e682f3-69ec-4f34-a970-908caa4bebb3",
   "metadata": {},
   "source": [
    "The program receives a sequence of non-negative integers as input, each number is written in a separate line. The sequence ends with the number 0, when reading which the program must finish its work and output the number of members of the sequence (not counting the final number 0).  \n",
    "The numbers following the number 0 do not need to be read.\n",
    "\n",
    "**Input data**\n",
    "A sequence of integers ending in the number 0 is entered (the number 0 itself is not included in the sequence).\n",
    "\n",
    "**Output data**\n",
    "Print the answer to the problem."
   ]
  },
  {
   "cell_type": "code",
   "execution_count": 3,
   "id": "0752c75c-be3c-4f78-ac7a-fd6378b7831e",
   "metadata": {},
   "outputs": [
    {
     "name": "stdin",
     "output_type": "stream",
     "text": [
      " 9\n",
      " 15\n",
      " 1\n",
      " 0\n"
     ]
    },
    {
     "name": "stdout",
     "output_type": "stream",
     "text": [
      "3\n"
     ]
    }
   ],
   "source": [
    "counter = 0\n",
    "while int(input()) != 0:\n",
    "    counter += 1\n",
    "print(counter)"
   ]
  },
  {
   "cell_type": "markdown",
   "id": "f6d7ba2a-c2a9-4abb-85c7-4612ed66dedb",
   "metadata": {
    "tags": []
   },
   "source": [
    "## The sum of the sequence"
   ]
  },
  {
   "cell_type": "markdown",
   "id": "f826d846-5301-4926-814c-9b38217c0218",
   "metadata": {},
   "source": [
    "Determine the sum of all the elements of the sequence ending with the number 0.  \n",
    "The numbers following zero do not need to be read.\n",
    "\n",
    "**Input data**\n",
    "A sequence of integers ending in the number 0 is entered (the number 0 itself is not included in the sequence).\n",
    "\n",
    "**Output data**\n",
    "Print the answer to the problem."
   ]
  },
  {
   "cell_type": "code",
   "execution_count": 4,
   "id": "d7df9a34-03c9-49a1-8b80-019339a2df69",
   "metadata": {},
   "outputs": [
    {
     "name": "stdin",
     "output_type": "stream",
     "text": [
      " 1\n",
      " 7\n",
      " 9\n",
      " 0\n"
     ]
    },
    {
     "name": "stdout",
     "output_type": "stream",
     "text": [
      "17\n"
     ]
    }
   ],
   "source": [
    "sequence_sum = 0\n",
    "num = int(input())\n",
    "while num != 0:\n",
    "    sequence_sum += num\n",
    "    num = int(input())\n",
    "print(sequence_sum)"
   ]
  },
  {
   "cell_type": "markdown",
   "id": "394647cf-31c1-4b75-933c-2cd298f2c574",
   "metadata": {
    "tags": []
   },
   "source": [
    "## The number of even elements of the sequence"
   ]
  },
  {
   "cell_type": "markdown",
   "id": "fe0675e8-ec02-4ff3-a51d-3cc8cb1a6f23",
   "metadata": {},
   "source": [
    "Determine the number of even elements in the sequence ending with the number 0.\n",
    "The number itself is 0, and everything that follows it does not need to be taken into account.  \n",
    "\n",
    "**Input data**\n",
    "A sequence of integers ending in the number 0 is entered (the number 0 itself is not included in the sequence).\n",
    "\n",
    "**Output data**\n",
    "Print the answer to the problem."
   ]
  },
  {
   "cell_type": "code",
   "execution_count": 5,
   "id": "5d139b79-d6f9-4041-bb02-24e121c66944",
   "metadata": {},
   "outputs": [
    {
     "name": "stdin",
     "output_type": "stream",
     "text": [
      " 1\n",
      " 2\n",
      " 3\n",
      " 4\n",
      " 5\n",
      " 0\n"
     ]
    },
    {
     "name": "stdout",
     "output_type": "stream",
     "text": [
      "2\n"
     ]
    }
   ],
   "source": [
    "even_count = 0\n",
    "num = int(input())\n",
    "while num != 0:\n",
    "    even_count += 1 if num % 2 == 0 else 0\n",
    "    num = int(input())\n",
    "print(even_count)"
   ]
  }
 ],
 "metadata": {
  "kernelspec": {
   "display_name": "algoprog",
   "language": "python",
   "name": "algoprog"
  },
  "language_info": {
   "codemirror_mode": {
    "name": "ipython",
    "version": 3
   },
   "file_extension": ".py",
   "mimetype": "text/x-python",
   "name": "python",
   "nbconvert_exporter": "python",
   "pygments_lexer": "ipython3",
   "version": "3.8.10"
  },
  "toc-autonumbering": false
 },
 "nbformat": 4,
 "nbformat_minor": 5
}
