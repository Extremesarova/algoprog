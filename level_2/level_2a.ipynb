{
 "cells": [
  {
   "cell_type": "markdown",
   "id": "1266a41a-1dd2-4102-b615-c3e304ac2ead",
   "metadata": {},
   "source": [
    "# НОД, алгоритм Евклида"
   ]
  },
  {
   "cell_type": "markdown",
   "id": "40461db2-8335-4ec6-bc81-178155920ce2",
   "metadata": {
    "tags": []
   },
   "source": [
    "## НОД"
   ]
  },
  {
   "cell_type": "markdown",
   "id": "682e14ef-0d78-411d-89a4-b0722d1faf82",
   "metadata": {},
   "source": [
    "Даны два числа. Найти их наибольший общий делитель.\n",
    "\n",
    "**Input data**\n",
    "Вводятся два натуральных числа, не превышающих $10^9$.\n",
    "\n",
    "**Output data**\n",
    "Выведите НОД введенных чисел."
   ]
  },
  {
   "cell_type": "code",
   "execution_count": 6,
   "id": "3104bbf9-16e5-4d36-912e-bfc3ece9f368",
   "metadata": {},
   "outputs": [
    {
     "name": "stdin",
     "output_type": "stream",
     "text": [
      " 10 50\n"
     ]
    },
    {
     "name": "stdout",
     "output_type": "stream",
     "text": [
      "10\n"
     ]
    }
   ],
   "source": [
    "def get_gcd(x, y):\n",
    "    while y != 0:\n",
    "        x, y = y, x % y\n",
    "    return x\n",
    "\n",
    "\n",
    "x, y = map(int, input().split())\n",
    "\n",
    "gcd = get_gcd(x, y)\n",
    "print(gcd)\n",
    "\n",
    "assert get_gcd(2, 1) == 1\n",
    "assert get_gcd(1, 2) == 1\n",
    "assert get_gcd(5, 3) == 1\n",
    "assert get_gcd(5, 10) == 5"
   ]
  },
  {
   "cell_type": "markdown",
   "id": "c469ea54-4957-4e09-8615-b051c303c27d",
   "metadata": {
    "tags": []
   },
   "source": [
    "## Сокращение дроби"
   ]
  },
  {
   "cell_type": "markdown",
   "id": "40617ade-25c5-410f-a80f-25bd6f40550d",
   "metadata": {},
   "source": [
    "Дана дробь a/b. Требуется ее сократить, то есть записать это же число в виде c/d, где c — целое число, d — натуральное число и d минимальное возможное.\n",
    "\n",
    "**Input data**\n",
    "Вводятся два целых числа a и b (–100≤a≤100, 0<b≤100).\n",
    "\n",
    "**Output data**\n",
    "Выведите два числа c и d."
   ]
  },
  {
   "cell_type": "code",
   "execution_count": 13,
   "id": "4ccd6c5c-ac6a-4a4e-93d7-b5f7e34490c8",
   "metadata": {},
   "outputs": [
    {
     "name": "stdin",
     "output_type": "stream",
     "text": [
      " 0 4\n"
     ]
    },
    {
     "name": "stdout",
     "output_type": "stream",
     "text": [
      "0 1\n"
     ]
    }
   ],
   "source": [
    "def get_gcd(x, y):\n",
    "    while y != 0:\n",
    "        x, y = y, x % y\n",
    "\n",
    "    return x\n",
    "\n",
    "\n",
    "def reduce_fraction(a, b):\n",
    "    gcd = get_gcd(a, b)\n",
    "    c = a // gcd\n",
    "    d = b // gcd\n",
    "\n",
    "    return c, d\n",
    "\n",
    "\n",
    "a, b = map(int, input().split())\n",
    "\n",
    "c, d = reduce_fraction(a, b)\n",
    "print(c, d)\n",
    "\n",
    "assert reduce_fraction(3, 6) == (1, 2)\n",
    "assert reduce_fraction(20, 15) == (4, 3)\n",
    "assert reduce_fraction(-2, 5) == (-2, 5)\n",
    "assert reduce_fraction(-5, 10) == (-1, 2)"
   ]
  },
  {
   "cell_type": "code",
   "execution_count": null,
   "id": "8cc6f4a9-cee8-476a-ad06-4290c9c58382",
   "metadata": {},
   "outputs": [],
   "source": []
  }
 ],
 "metadata": {
  "kernelspec": {
   "display_name": "algoprog",
   "language": "python",
   "name": "algoprog"
  },
  "language_info": {
   "codemirror_mode": {
    "name": "ipython",
    "version": 3
   },
   "file_extension": ".py",
   "mimetype": "text/x-python",
   "name": "python",
   "nbconvert_exporter": "python",
   "pygments_lexer": "ipython3",
   "version": "3.8.10"
  }
 },
 "nbformat": 4,
 "nbformat_minor": 5
}
