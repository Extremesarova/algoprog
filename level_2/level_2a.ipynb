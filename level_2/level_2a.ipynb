{
 "cells": [
  {
   "cell_type": "markdown",
   "id": "1266a41a-1dd2-4102-b615-c3e304ac2ead",
   "metadata": {},
   "source": [
    "# НОД, алгоритм Евклида"
   ]
  },
  {
   "cell_type": "markdown",
   "id": "40461db2-8335-4ec6-bc81-178155920ce2",
   "metadata": {
    "tags": []
   },
   "source": [
    "## НОД"
   ]
  },
  {
   "cell_type": "markdown",
   "id": "682e14ef-0d78-411d-89a4-b0722d1faf82",
   "metadata": {},
   "source": [
    "Даны два числа. Найти их наибольший общий делитель.\n",
    "\n",
    "**Input data**\n",
    "Вводятся два натуральных числа, не превышающих $10^9$.\n",
    "\n",
    "**Output data**\n",
    "Выведите НОД введенных чисел."
   ]
  },
  {
   "cell_type": "code",
   "execution_count": 6,
   "id": "3104bbf9-16e5-4d36-912e-bfc3ece9f368",
   "metadata": {},
   "outputs": [
    {
     "name": "stdin",
     "output_type": "stream",
     "text": [
      " 10 50\n"
     ]
    },
    {
     "name": "stdout",
     "output_type": "stream",
     "text": [
      "10\n"
     ]
    }
   ],
   "source": [
    "def get_gcd(x, y):\n",
    "    while y != 0:\n",
    "        x, y = y, x % y\n",
    "    return x\n",
    "\n",
    "\n",
    "x, y = map(int, input().split())\n",
    "\n",
    "gcd = get_gcd(x, y)\n",
    "print(gcd)\n",
    "\n",
    "assert get_gcd(2, 1) == 1\n",
    "assert get_gcd(1, 2) == 1\n",
    "assert get_gcd(5, 3) == 1\n",
    "assert get_gcd(5, 10) == 5"
   ]
  },
  {
   "cell_type": "code",
   "execution_count": null,
   "id": "fe7dcc65-a4e4-4f85-8e41-cb4049709482",
   "metadata": {},
   "outputs": [],
   "source": []
  }
 ],
 "metadata": {
  "kernelspec": {
   "display_name": "algoprog",
   "language": "python",
   "name": "algoprog"
  },
  "language_info": {
   "codemirror_mode": {
    "name": "ipython",
    "version": 3
   },
   "file_extension": ".py",
   "mimetype": "text/x-python",
   "name": "python",
   "nbconvert_exporter": "python",
   "pygments_lexer": "ipython3",
   "version": "3.8.10"
  }
 },
 "nbformat": 4,
 "nbformat_minor": 5
}
