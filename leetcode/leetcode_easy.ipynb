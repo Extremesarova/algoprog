{
 "cells": [
  {
   "cell_type": "code",
   "execution_count": 2,
   "id": "fcaf1297-89bd-4a35-a6c5-cc8e4b4f9d70",
   "metadata": {},
   "outputs": [],
   "source": [
    "from typing import List"
   ]
  },
  {
   "cell_type": "markdown",
   "id": "308b5b0c-2dc2-41b9-93ac-f2980f9f0cc9",
   "metadata": {},
   "source": [
    "# Arrays"
   ]
  },
  {
   "cell_type": "markdown",
   "id": "40461db2-8335-4ec6-bc81-178155920ce2",
   "metadata": {
    "tags": []
   },
   "source": [
    "## 485. Max Consecutive Ones"
   ]
  },
  {
   "cell_type": "markdown",
   "id": "682e14ef-0d78-411d-89a4-b0722d1faf82",
   "metadata": {},
   "source": [
    "Given a binary array nums, return the maximum number of consecutive 1's in the array.\n",
    "\n",
    "**Constraints**:\n",
    "\n",
    " - $1$ <= `nums.length` <= $10^5$  \n",
    " - `nums[i]` is either $0$ or $1$."
   ]
  },
  {
   "cell_type": "code",
   "execution_count": 17,
   "id": "1b627bcf",
   "metadata": {},
   "outputs": [
    {
     "name": "stdout",
     "output_type": "stream",
     "text": [
      "5\n"
     ]
    }
   ],
   "source": [
    "def findMaxConsecutiveOnes(nums):\n",
    "    local_max = 0\n",
    "    global_max = 0\n",
    "\n",
    "    for el in nums:\n",
    "        if el == 1:\n",
    "            local_max += 1\n",
    "        else:\n",
    "            local_max = 0\n",
    "\n",
    "        if local_max > global_max:\n",
    "            global_max = local_max\n",
    "\n",
    "    return global_max\n",
    "\n",
    "\n",
    "nums = list(map(int, input().split()))\n",
    "res = findMaxConsecutiveOnes(nums)\n",
    "print(res)\n",
    "\n",
    "assert findMaxConsecutiveOnes([1, 1, 0, 1, 1, 1]) == 3\n",
    "assert findMaxConsecutiveOnes([1, 0, 1, 1, 0, 1]) == 2\n"
   ]
  },
  {
   "cell_type": "markdown",
   "id": "3772bbc3-a764-4233-9c8d-d02034d7f1c8",
   "metadata": {
    "tags": []
   },
   "source": [
    "## 217. Contains Duplicate"
   ]
  },
  {
   "cell_type": "markdown",
   "id": "da2fe56b-0c7d-4abf-b695-b5306199a3ae",
   "metadata": {},
   "source": [
    "Given an integer array nums, return true if any value appears at least twice in the array, and return false if every element is distinct.\n",
    "\n",
    "**Example 1:**  \n",
    "*Input*: nums = [1,2,3,1]  \n",
    "*Output*: true  \n",
    "\n",
    "**Example 2:**  \n",
    "*Input*: nums = [1,2,3,4]  \n",
    "*Output*: false  \n",
    "\n",
    "**Example 3:**  \n",
    "*Input*: nums = [1,1,1,3,3,4,3,2,4,2]  \n",
    "*Output*: true\n",
    "\n",
    "\n",
    "**Constraints**:\n",
    "\n",
    "$1$ <= `nums.length` <= $10^5$  \n",
    "-$10^9$ <= `nums[i]` <= $10^9$"
   ]
  },
  {
   "cell_type": "code",
   "execution_count": 3,
   "id": "f14d165c-a5a2-4568-91f3-03189dea83be",
   "metadata": {},
   "outputs": [
    {
     "name": "stdout",
     "output_type": "stream",
     "text": [
      "True\n"
     ]
    }
   ],
   "source": [
    "def containsDuplicate(nums: List[int]) -> bool:\n",
    "    hashset = set()\n",
    "\n",
    "    for el in nums:\n",
    "        if el not in hashset:\n",
    "            hashset.add(el)\n",
    "        else:\n",
    "            return True\n",
    "\n",
    "    return False\n",
    "\n",
    "\n",
    "nums = list(map(int, input().split()))\n",
    "res = containsDuplicate(nums)\n",
    "print(res)\n",
    "\n",
    "assert containsDuplicate([1, 2, 3, 1]) is True\n",
    "assert containsDuplicate([1, 2, 3, 4]) is False\n",
    "assert containsDuplicate([1, 1, 1, 3, 3, 4, 3, 2, 4, 2]) is True\n"
   ]
  },
  {
   "cell_type": "code",
   "execution_count": null,
   "id": "11296786",
   "metadata": {},
   "outputs": [],
   "source": []
  }
 ],
 "metadata": {
  "interpreter": {
   "hash": "5acf0376ddefa89f0f90d79cf9651f12111c46db01e8a73a8bd54c13ffa9735d"
  },
  "kernelspec": {
   "display_name": "algoprog",
   "language": "python",
   "name": "algoprog"
  },
  "language_info": {
   "codemirror_mode": {
    "name": "ipython",
    "version": 3
   },
   "file_extension": ".py",
   "mimetype": "text/x-python",
   "name": "python",
   "nbconvert_exporter": "python",
   "pygments_lexer": "ipython3",
   "version": "3.8.10"
  }
 },
 "nbformat": 4,
 "nbformat_minor": 5
}
