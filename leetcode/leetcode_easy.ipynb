{
 "cells": [
  {
   "cell_type": "markdown",
   "id": "40461db2-8335-4ec6-bc81-178155920ce2",
   "metadata": {
    "tags": []
   },
   "source": [
    "## 485. Max Consecutive Ones"
   ]
  },
  {
   "cell_type": "markdown",
   "id": "682e14ef-0d78-411d-89a4-b0722d1faf82",
   "metadata": {},
   "source": [
    "Given a binary array nums, return the maximum number of consecutive 1's in the array.\n",
    "\n",
    "Constraints:\n",
    "\n",
    " - 1 <= nums.length <= 105  \n",
    " - nums[i] is either 0 or 1."
   ]
  },
  {
   "cell_type": "code",
   "execution_count": 17,
   "id": "1b627bcf",
   "metadata": {},
   "outputs": [
    {
     "name": "stdout",
     "output_type": "stream",
     "text": [
      "5\n"
     ]
    }
   ],
   "source": [
    "def findMaxConsecutiveOnes(nums):\n",
    "    local_max = 0\n",
    "    global_max = 0\n",
    "\n",
    "    for el in nums:\n",
    "        if el == 1:\n",
    "            local_max += 1\n",
    "        else:\n",
    "            local_max = 0\n",
    "\n",
    "        if local_max > global_max:\n",
    "            global_max = local_max\n",
    "\n",
    "    return global_max\n",
    "\n",
    "\n",
    "nums = list(map(int, input().split()))\n",
    "res = findMaxConsecutiveOnes(nums)\n",
    "print(res)\n",
    "\n",
    "assert findMaxConsecutiveOnes([1, 1, 0, 1, 1, 1]) == 3\n",
    "assert findMaxConsecutiveOnes([1, 0, 1, 1, 0, 1]) == 2\n"
   ]
  }
 ],
 "metadata": {
  "interpreter": {
   "hash": "5acf0376ddefa89f0f90d79cf9651f12111c46db01e8a73a8bd54c13ffa9735d"
  },
  "kernelspec": {
   "display_name": "algoprog",
   "language": "python",
   "name": "algoprog"
  },
  "language_info": {
   "codemirror_mode": {
    "name": "ipython",
    "version": 3
   },
   "file_extension": ".py",
   "mimetype": "text/x-python",
   "name": "python",
   "nbconvert_exporter": "python",
   "pygments_lexer": "ipython3",
   "version": "3.8.10"
  }
 },
 "nbformat": 4,
 "nbformat_minor": 5
}
