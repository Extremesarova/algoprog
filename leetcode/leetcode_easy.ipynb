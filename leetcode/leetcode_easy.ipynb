{
 "cells": [
  {
   "cell_type": "code",
   "execution_count": 2,
   "id": "fcaf1297-89bd-4a35-a6c5-cc8e4b4f9d70",
   "metadata": {},
   "outputs": [],
   "source": [
    "from typing import List"
   ]
  },
  {
   "cell_type": "markdown",
   "id": "308b5b0c-2dc2-41b9-93ac-f2980f9f0cc9",
   "metadata": {},
   "source": [
    "# Arrays"
   ]
  },
  {
   "cell_type": "markdown",
   "id": "40461db2-8335-4ec6-bc81-178155920ce2",
   "metadata": {
    "tags": []
   },
   "source": [
    "## 485. Max Consecutive Ones"
   ]
  },
  {
   "cell_type": "markdown",
   "id": "682e14ef-0d78-411d-89a4-b0722d1faf82",
   "metadata": {},
   "source": [
    "Given a binary array nums, return the maximum number of consecutive 1's in the array.\n",
    "\n",
    "**Constraints**:\n",
    "\n",
    " - $1$ <= `nums.length` <= $10^5$  \n",
    " - `nums[i]` is either $0$ or $1$."
   ]
  },
  {
   "cell_type": "code",
   "execution_count": 17,
   "id": "1b627bcf",
   "metadata": {},
   "outputs": [
    {
     "name": "stdout",
     "output_type": "stream",
     "text": [
      "5\n"
     ]
    }
   ],
   "source": [
    "def findMaxConsecutiveOnes(nums):\n",
    "    local_max = 0\n",
    "    global_max = 0\n",
    "\n",
    "    for el in nums:\n",
    "        if el == 1:\n",
    "            local_max += 1\n",
    "        else:\n",
    "            local_max = 0\n",
    "\n",
    "        if local_max > global_max:\n",
    "            global_max = local_max\n",
    "\n",
    "    return global_max\n",
    "\n",
    "\n",
    "nums = list(map(int, input().split()))\n",
    "res = findMaxConsecutiveOnes(nums)\n",
    "print(res)\n",
    "\n",
    "assert findMaxConsecutiveOnes([1, 1, 0, 1, 1, 1]) == 3\n",
    "assert findMaxConsecutiveOnes([1, 0, 1, 1, 0, 1]) == 2\n"
   ]
  },
  {
   "cell_type": "markdown",
   "id": "3772bbc3-a764-4233-9c8d-d02034d7f1c8",
   "metadata": {
    "tags": []
   },
   "source": [
    "## 217. Contains Duplicate"
   ]
  },
  {
   "cell_type": "markdown",
   "id": "da2fe56b-0c7d-4abf-b695-b5306199a3ae",
   "metadata": {},
   "source": [
    "Given an integer array nums, return true if any value appears at least twice in the array, and return false if every element is distinct.\n",
    "\n",
    "**Example 1:**  \n",
    "*Input*: nums = [1,2,3,1]  \n",
    "*Output*: true  \n",
    "\n",
    "**Example 2:**  \n",
    "*Input*: nums = [1,2,3,4]  \n",
    "*Output*: false  \n",
    "\n",
    "**Example 3:**  \n",
    "*Input*: nums = [1,1,1,3,3,4,3,2,4,2]  \n",
    "*Output*: true\n",
    "\n",
    "\n",
    "**Constraints**:\n",
    "\n",
    "$1$ <= `nums.length` <= $10^5$  \n",
    "-$10^9$ <= `nums[i]` <= $10^9$"
   ]
  },
  {
   "cell_type": "code",
   "execution_count": 3,
   "id": "f14d165c-a5a2-4568-91f3-03189dea83be",
   "metadata": {},
   "outputs": [
    {
     "name": "stdout",
     "output_type": "stream",
     "text": [
      "True\n"
     ]
    }
   ],
   "source": [
    "def containsDuplicate(nums: List[int]) -> bool:\n",
    "    hashset = set()\n",
    "\n",
    "    for el in nums:\n",
    "        if el not in hashset:\n",
    "            hashset.add(el)\n",
    "        else:\n",
    "            return True\n",
    "\n",
    "    return False\n",
    "\n",
    "\n",
    "nums = list(map(int, input().split()))\n",
    "res = containsDuplicate(nums)\n",
    "print(res)\n",
    "\n",
    "assert containsDuplicate([1, 2, 3, 1]) is True\n",
    "assert containsDuplicate([1, 2, 3, 4]) is False\n",
    "assert containsDuplicate([1, 1, 1, 3, 3, 4, 3, 2, 4, 2]) is True\n"
   ]
  },
  {
   "cell_type": "markdown",
   "id": "308b5b0c-2dc2-41b9-93ac-f2980f9f0cc9",
   "metadata": {},
   "source": [
    "# Two pointers"
   ]
  },
  {
   "cell_type": "markdown",
   "id": "40461db2-8335-4ec6-bc81-178155920ce2",
   "metadata": {
    "tags": []
   },
   "source": [
    "## 125. Valid Palindrome"
   ]
  },
  {
   "cell_type": "markdown",
   "id": "682e14ef-0d78-411d-89a4-b0722d1faf82",
   "metadata": {},
   "source": [
    "A phrase is a **palindrome** if, after converting all uppercase letters into lowercase letters and removing all non-alphanumeric characters, it reads the same forward and backward. Alphanumeric characters include letters and numbers.\n",
    "\n",
    "Given a string `s`, return `true` if it is a **palindrome**, or `false` otherwise.\n",
    "\n",
    "\n",
    "**Example 1:**\n",
    "\n",
    "*Input*: s = \"A man, a plan, a canal: Panama\"  \n",
    "*Output*: true  \n",
    "*Explanation*: \"amanaplanacanalpanama\" is a palindrome.  \n",
    "\n",
    "\n",
    "**Example 2:**\n",
    "\n",
    "*Input*: s = \"race a car\"  \n",
    "*Output*: false  \n",
    "*Explanation*: \"raceacar\" is not a palindrome.  \n",
    "\n",
    "**Example 3:**\n",
    "\n",
    "*Input*: s = \" \"  \n",
    "*Output*: true  \n",
    "*Explanation*: s is an empty string \"\" after removing non-alphanumeric characters.  \n",
    "Since an empty string reads the same forward and backward, it is a palindrome.\n",
    " \n",
    "**Constraints:**  \n",
    " - $1$ <= `s.length` <= $2 * 10^5$\n",
    " - `s` consists only of printable ASCII characters."
   ]
  },
  {
   "cell_type": "code",
   "execution_count": 9,
   "id": "314a2656",
   "metadata": {},
   "outputs": [],
   "source": [
    "def isPalindrome_1(s: str) -> bool:\n",
    "    new_s = \"\"\n",
    "    for char in s:\n",
    "        if char.isalnum():\n",
    "            new_s += char.lower()\n",
    "\n",
    "    for i in range(len(new_s) // 2):\n",
    "        if new_s[i] != new_s[len(new_s) - i - 1]:\n",
    "            return False\n",
    "\n",
    "    return True"
   ]
  },
  {
   "cell_type": "code",
   "execution_count": 10,
   "id": "1b627bcf",
   "metadata": {},
   "outputs": [
    {
     "name": "stdout",
     "output_type": "stream",
     "text": [
      "True\n",
      "e a 3 5\n"
     ]
    }
   ],
   "source": [
    "def isalnum(c: str) -> bool:\n",
    "    # or we can use ascii codes directly using ord() function\n",
    "    return ((\"a\" <= c <= \"z\") or (\"0\" <= c <= \"9\") or (\"A\" <= c <= \"Z\"))\n",
    "\n",
    "\n",
    "def isPalindrome_2(s: str) -> bool:\n",
    "    l, r = 0, len(s) - 1\n",
    "    while l < r:\n",
    "\n",
    "        while l < r and not isalnum(s[l]):\n",
    "            l += 1\n",
    "\n",
    "        while r > l and not isalnum((s[r])):\n",
    "            r -= 1\n",
    "\n",
    "        if s[l].lower() != s[r].lower():\n",
    "            return False\n",
    "\n",
    "        l, r = l + 1, r - 1\n",
    "\n",
    "    return True\n",
    "\n",
    "\n",
    "s = input()\n",
    "res = isPalindrome_2(s)\n",
    "print(res)\n",
    "\n",
    "assert isPalindrome_2(\"A man, a plan, a canal: Panama\") == True\n",
    "assert isPalindrome_2(\"race a car\") == False\n",
    "assert isPalindrome_2(\" \") == True\n",
    "\n",
    "assert isPalindrome_1(\"A man, a plan, a canal: Panama\") == True\n",
    "assert isPalindrome_1(\"race a car\") == False\n",
    "assert isPalindrome_1(\" \") == True\n"
   ]
  },
  {
   "cell_type": "code",
   "execution_count": 3,
   "id": "9e6be536",
   "metadata": {},
   "outputs": [
    {
     "data": {
      "text/plain": [
       "'A'"
      ]
     },
     "execution_count": 3,
     "metadata": {},
     "output_type": "execute_result"
    }
   ],
   "source": [
    "chr(65)"
   ]
  },
  {
   "cell_type": "markdown",
   "id": "308b5b0c-2dc2-41b9-93ac-f2980f9f0cc9",
   "metadata": {},
   "source": [
    "# Sliding window"
   ]
  },
  {
   "cell_type": "markdown",
   "id": "40461db2-8335-4ec6-bc81-178155920ce2",
   "metadata": {
    "tags": []
   },
   "source": [
    "## 121. Best Time to Buy and Sell Stock"
   ]
  },
  {
   "cell_type": "markdown",
   "id": "682e14ef-0d78-411d-89a4-b0722d1faf82",
   "metadata": {},
   "source": [
    "You are given an array `prices` where `prices[i]` is the price of a given stock on the $i^{th}$ day.\n",
    "\n",
    "You want to maximize your profit by choosing a single day to buy one stock and choosing a different day in the future to sell that stock.\n",
    "\n",
    "Return the maximum profit you can achieve from this transaction. If you cannot achieve any profit, return 0.\n",
    "\n",
    " \n",
    "\n",
    "**Example 1:**  \n",
    "*Input*: `prices` = [7,1,5,3,6,4]  \n",
    "*Output*: 5  \n",
    "*Explanation*: Buy on day 2 (price = 1) and sell on day 5 (price = 6), profit = 6-1 = 5.  \n",
    "Note that buying on day 2 and selling on day 1 is not allowed because you must buy before you sell.  \n",
    "\n",
    "**Example 2:**  \n",
    "*Input*: `prices` = [7,6,4,3,1]  \n",
    "*Output*: 0  \n",
    "*Explanation*: In this case, no transactions are done and the max profit = 0.  \n",
    " \n",
    "\n",
    "*Constraints*:\n",
    "\n",
    "$1$ <= `prices.length` <= $10^5$  \n",
    "$0$ <= `prices[i]` <= $10^4$"
   ]
  },
  {
   "cell_type": "code",
   "execution_count": 7,
   "id": "1b627bcf",
   "metadata": {},
   "outputs": [
    {
     "name": "stdout",
     "output_type": "stream",
     "text": [
      "4\n"
     ]
    }
   ],
   "source": [
    "def maxProfit(prices):\n",
    "    max_profit = 0\n",
    "    l, r = 0, 1\n",
    "\n",
    "    while r < len(prices):\n",
    "        if prices[l] < prices[r]:\n",
    "            profit = prices[r] - prices[l]\n",
    "            max_profit = max(profit, max_profit)\n",
    "        else:\n",
    "            l = r\n",
    "\n",
    "        r += 1\n",
    "\n",
    "    return max_profit\n",
    "\n",
    "\n",
    "prices = list(map(int, input().split()))\n",
    "res = maxProfit(prices)\n",
    "print(res)\n",
    "\n",
    "assert maxProfit([7, 1, 5, 3, 6, 4]) == 5\n",
    "assert maxProfit([7, 6, 4, 3, 1]) == 0\n"
   ]
  }
 ],
 "metadata": {
  "interpreter": {
   "hash": "5acf0376ddefa89f0f90d79cf9651f12111c46db01e8a73a8bd54c13ffa9735d"
  },
  "kernelspec": {
   "display_name": "algoprog",
   "language": "python",
   "name": "algoprog"
  },
  "language_info": {
   "codemirror_mode": {
    "name": "ipython",
    "version": 3
   },
   "file_extension": ".py",
   "mimetype": "text/x-python",
   "name": "python",
   "nbconvert_exporter": "python",
   "pygments_lexer": "ipython3",
   "version": "3.8.10"
  }
 },
 "nbformat": 4,
 "nbformat_minor": 5
}
