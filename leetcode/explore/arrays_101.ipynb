{
 "cells": [
  {
   "cell_type": "code",
   "execution_count": 1,
   "id": "bdfd16a4-e29d-4edb-bfec-7b2d5682a1f2",
   "metadata": {},
   "outputs": [],
   "source": [
    "from typing import List"
   ]
  },
  {
   "cell_type": "markdown",
   "id": "21039b3e-8f48-4fa9-b450-ec8ad6c9ec2b",
   "metadata": {},
   "source": [
    "### What Is an Array?"
   ]
  },
  {
   "cell_type": "markdown",
   "id": "7550bb24-72a7-40ad-85c3-ad8d395241cc",
   "metadata": {},
   "source": [
    "An Array is a collection of items. The items could be integers, strings, DVDs, games, books - anything really. The items are stored in neighboring (contiguous) memory locations. Because they're stored together, checking through the entire collection of items is straightforward."
   ]
  },
  {
   "cell_type": "markdown",
   "id": "9575e971-069b-493c-bb61-9a7aced3afce",
   "metadata": {},
   "source": [
    "Below we can see an example of array `dvdCollection` implementation in Java alongside with the definition of `DVD` object for clarity. "
   ]
  },
  {
   "cell_type": "markdown",
   "id": "fd3cf419-d392-463b-9db5-e28c605e51e7",
   "metadata": {},
   "source": [
    "<pre><code>\n",
    "DVD[] dvdCollection = new DVD[15];\n",
    "\n",
    "public class DVD {\n",
    "    public String name;\n",
    "    public int releaseYear;\n",
    "    public String director;\n",
    "\n",
    "    public DVD(String name, int releaseYear, String director) {\n",
    "        this.name = name;\n",
    "        this.releaseYear = releaseYear;\n",
    "        this.director = director;\n",
    "    }\n",
    "\n",
    "    public String toString() {\n",
    "        return this.name + \", directed by \" + this.director + \", released in \" + this.releaseYear;\n",
    "    }\n",
    "} \n",
    "</code></pre>"
   ]
  },
  {
   "cell_type": "markdown",
   "id": "a8d3823a-1129-4019-80ae-62029b0aea2d",
   "metadata": {},
   "source": [
    "After running the above code, we will have an Array called dvdCollection, with 15 places in it. Each place can hold one DVD. At the start, there are no DVD's in the Array; we'll have to actually put them in."
   ]
  },
  {
   "cell_type": "markdown",
   "id": "19f00f53-a9c8-4074-8381-56bffd933903",
   "metadata": {},
   "source": [
    "The things are different in Python. </br>\n",
    "\n",
    "The closest thing to Array in Python is `list` class, which is actually an array of references. Lists can contain any sort of object:\n",
    "numbers, strings, and even other lists. Lists may be changed in place by assignment to offsets and slices, list method calls, deletion statements, and more - they are mutable objects. </br>\n",
    "\n",
    "Another option to represent Array in Python is `array` class. Arrays are sequence types and behave very much like lists, except that the type of objects stored in them is constrained. The type is specified at object creation time by using a type code. </br>\n",
    "\n",
    "Now let's implement example from above in Python using lists."
   ]
  },
  {
   "cell_type": "code",
   "execution_count": 2,
   "id": "20b1eade-517d-49c7-bfd5-e99385577ac6",
   "metadata": {},
   "outputs": [],
   "source": [
    "class DVD:\n",
    "    def __init__(self, name: str, release_year: int, director: str):\n",
    "        self.name = name\n",
    "        self.release_year = release_year\n",
    "        self.director = director\n",
    "\n",
    "    def __str__(self):\n",
    "        return (\n",
    "            f\"{self.name}, directed by {self.director}, released in {self.release_year}\"\n",
    "        )"
   ]
  },
  {
   "cell_type": "code",
   "execution_count": 3,
   "id": "c0542f48-6a05-40ca-9971-6c7395265b67",
   "metadata": {},
   "outputs": [],
   "source": [
    "dvd_collection = [None] * 15"
   ]
  },
  {
   "cell_type": "code",
   "execution_count": 4,
   "id": "ddae78fd-3714-4832-811e-dc2bd8b27728",
   "metadata": {},
   "outputs": [
    {
     "name": "stdout",
     "output_type": "stream",
     "text": [
      "Dune, directed by Denis Villeneuve, released in 2021\n"
     ]
    }
   ],
   "source": [
    "dune_dvd = DVD(\"Dune\", 2021, \"Denis Villeneuve\")\n",
    "print(dune_dvd)"
   ]
  },
  {
   "cell_type": "code",
   "execution_count": 5,
   "id": "109cc1f6-374d-4980-9e7b-c74e29934f5a",
   "metadata": {},
   "outputs": [
    {
     "name": "stdout",
     "output_type": "stream",
     "text": [
      "[None, None, None, None, None, None, None, None, None, None, None, None, None, None, None]\n"
     ]
    }
   ],
   "source": [
    "print(dvd_collection)"
   ]
  },
  {
   "cell_type": "markdown",
   "id": "19f37542-3626-4631-bb0a-67f107bec299",
   "metadata": {},
   "source": [
    "### Writing items into an Array "
   ]
  },
  {
   "cell_type": "markdown",
   "id": "57865384-9030-40a1-843b-b9634d233690",
   "metadata": {},
   "source": [
    "Let's put the DVD for The Dune into the eighth place of the Array we created above."
   ]
  },
  {
   "cell_type": "code",
   "execution_count": 6,
   "id": "02195c84-bc76-414d-bae1-2940d78f7b25",
   "metadata": {},
   "outputs": [],
   "source": [
    "dvd_collection[7] = dune_dvd"
   ]
  },
  {
   "cell_type": "code",
   "execution_count": 7,
   "id": "2cdb2308-2d35-4ab6-b916-3df8aac586bd",
   "metadata": {},
   "outputs": [
    {
     "name": "stdout",
     "output_type": "stream",
     "text": [
      "[None, None, None, None, None, None, None, <__main__.DVD object at 0x0000020D7E3BFCA0>, None, None, None, None, None, None, None]\n"
     ]
    }
   ],
   "source": [
    "print(dvd_collection)"
   ]
  },
  {
   "cell_type": "markdown",
   "id": "985d0e97-3950-4cf0-ae24-827abbd44949",
   "metadata": {},
   "source": [
    "And that's it. We've put the DVD for Dune into our Array! Let's put a few more DVD's in."
   ]
  },
  {
   "cell_type": "code",
   "execution_count": 8,
   "id": "ee79e339-ec0b-44d6-89e4-b0b5bb05e0ac",
   "metadata": {},
   "outputs": [
    {
     "name": "stdout",
     "output_type": "stream",
     "text": [
      "[(0, None), (1, None), (2, <__main__.DVD object at 0x0000020D7E3F7220>), (3, <__main__.DVD object at 0x0000020D7E3F71C0>), (4, None), (5, None), (6, None), (7, <__main__.DVD object at 0x0000020D7E3BFCA0>), (8, None), (9, <__main__.DVD object at 0x0000020D7E3F7160>), (10, None), (11, None), (12, None), (13, None), (14, None)]\n"
     ]
    }
   ],
   "source": [
    "incredibles_dvd = DVD(\"The Incredibles\", 2004, \"Brad Bird\")\n",
    "finding_dory_dvd = DVD(\"Finding Dory\", 2016, \"Andrew Stanton\")\n",
    "lion_king_dvd = DVD(\"The Lion King\", 2019, \"Jon Favreau\")\n",
    "\n",
    "dvd_collection[3] = incredibles_dvd\n",
    "dvd_collection[9] = finding_dory_dvd\n",
    "dvd_collection[2] = lion_king_dvd\n",
    "\n",
    "print([(i, val) for i, val in enumerate(dvd_collection)])"
   ]
  },
  {
   "cell_type": "markdown",
   "id": "1546f05d-35a8-4989-ba20-0143abcb4240",
   "metadata": {},
   "source": [
    "What happens if we now run this next piece of code?"
   ]
  },
  {
   "cell_type": "code",
   "execution_count": 9,
   "id": "b78f6cef-b83b-45c8-9e37-56d8bfb7e521",
   "metadata": {},
   "outputs": [
    {
     "name": "stdout",
     "output_type": "stream",
     "text": [
      "[(0, None), (1, None), (2, <__main__.DVD object at 0x0000020D7E3F7220>), (3, <__main__.DVD object at 0x0000020D7E3F7A00>), (4, None), (5, None), (6, None), (7, <__main__.DVD object at 0x0000020D7E3BFCA0>), (8, None), (9, <__main__.DVD object at 0x0000020D7E3F7160>), (10, None), (11, None), (12, None), (13, None), (14, None)]\n"
     ]
    }
   ],
   "source": [
    "star_wars_dvd = DVD(\"Star Wars\", 1977, \"George Lucas\")\n",
    "dvd_collection[3] = star_wars_dvd\n",
    "\n",
    "print([(i, val) for i, val in enumerate(dvd_collection)])"
   ]
  },
  {
   "cell_type": "markdown",
   "id": "6d50b3ea-ac53-4b28-9cc8-aa7b7abcd2b5",
   "metadata": {},
   "source": [
    "Because we just put Star Wars into the Array at index 3, The Incredibles is no longer in the Array. It has been overwritten! If we still have the `incredibles_dvd` variable in scope, then the DVD still exists in the computer's memory. If not though, it's totally gone!"
   ]
  },
  {
   "cell_type": "markdown",
   "id": "c214cc61-c22c-40d1-a315-5eb9bf9dc636",
   "metadata": {},
   "source": [
    "### Reading Items from an Array"
   ]
  },
  {
   "cell_type": "code",
   "execution_count": 10,
   "id": "6a2368e1-b387-4638-ad15-b794381bc462",
   "metadata": {},
   "outputs": [
    {
     "name": "stdout",
     "output_type": "stream",
     "text": [
      "Dune, directed by Denis Villeneuve, released in 2021\n",
      "None\n",
      "Star Wars, directed by George Lucas, released in 1977\n"
     ]
    }
   ],
   "source": [
    "# Print out what's in indexes 7, 10, and 3.\n",
    "print(dvd_collection[7])\n",
    "print(dvd_collection[10])\n",
    "print(dvd_collection[3])"
   ]
  },
  {
   "cell_type": "markdown",
   "id": "af18f964-6b31-4131-b4dc-9fc6d7e0f522",
   "metadata": {},
   "source": [
    "Notice that because we haven't yet put anything at index 10, the value it contains is None. It is because we initialized the list with None values."
   ]
  },
  {
   "cell_type": "markdown",
   "id": "30cca68c-b725-4962-87c2-2743f09198c2",
   "metadata": {},
   "source": [
    "### Writing Items into an Array with a Loop"
   ]
  },
  {
   "cell_type": "code",
   "execution_count": 11,
   "id": "fb366828-d303-4f11-bc6e-04038c212722",
   "metadata": {},
   "outputs": [
    {
     "name": "stdout",
     "output_type": "stream",
     "text": [
      "1^2 = 1\n",
      "2^2 = 4\n",
      "3^2 = 9\n",
      "4^2 = 16\n",
      "5^2 = 25\n",
      "6^2 = 36\n",
      "7^2 = 49\n",
      "8^2 = 64\n",
      "9^2 = 81\n",
      "10^2 = 100\n",
      "\n"
     ]
    }
   ],
   "source": [
    "square_numbers = [None] * 10\n",
    "\n",
    "for i in range(10):\n",
    "    square = (i + 1) * (i + 1)\n",
    "    square_numbers[i] = square\n",
    "\n",
    "print(\"\".join([f\"{i + 1}^2 = {val}\\n\" for i, val in enumerate(square_numbers)]))"
   ]
  },
  {
   "cell_type": "markdown",
   "id": "11bcdbed-2f5d-4a54-b483-1b0137dcccd1",
   "metadata": {},
   "source": [
    "### Reading Items from an Array with a Loop"
   ]
  },
  {
   "cell_type": "code",
   "execution_count": 12,
   "id": "ac264ecd-5405-4a1f-8dd1-734517850629",
   "metadata": {},
   "outputs": [
    {
     "name": "stdout",
     "output_type": "stream",
     "text": [
      "1\n",
      "4\n",
      "9\n",
      "16\n",
      "25\n",
      "36\n",
      "49\n",
      "64\n",
      "81\n",
      "100\n"
     ]
    }
   ],
   "source": [
    "for number in square_numbers:\n",
    "    print(number)"
   ]
  },
  {
   "cell_type": "markdown",
   "id": "4ccee221-5b2b-4bdd-a8b0-3378e5efc6e7",
   "metadata": {},
   "source": [
    "###  Array Capacity vs Length"
   ]
  },
  {
   "cell_type": "markdown",
   "id": "b21f933e-76f3-4466-8e9c-09f6a911f07a",
   "metadata": {},
   "source": [
    "We allocated 15 elements for `dvd_collection` with `None` so it's capacity is:"
   ]
  },
  {
   "cell_type": "code",
   "execution_count": 13,
   "id": "4e24cfaf-08fc-4488-989b-7c1bd89e54c8",
   "metadata": {},
   "outputs": [
    {
     "name": "stdout",
     "output_type": "stream",
     "text": [
      "The Array has a capacity of 15\n"
     ]
    }
   ],
   "source": [
    "print(f\"The Array has a capacity of {len(dvd_collection)}\")"
   ]
  },
  {
   "cell_type": "markdown",
   "id": "54f9bf98-4092-4d97-94ba-8ff068e89952",
   "metadata": {},
   "source": [
    "Python lists have no built-in pre-allocation. We initialized it like this `dvd_collection = [None] * 15`.  \n",
    "Since in Python everything is a reference, it doesn't matter whether you set each element into None or some string - either way it's only a reference."
   ]
  },
  {
   "cell_type": "code",
   "execution_count": 14,
   "id": "bfd0777f-6dd2-4653-86ce-e85402ddd0f3",
   "metadata": {},
   "outputs": [
    {
     "data": {
      "text/plain": [
       "11"
      ]
     },
     "execution_count": 14,
     "metadata": {},
     "output_type": "execute_result"
    }
   ],
   "source": [
    "dvd_collection.count(None)"
   ]
  },
  {
   "cell_type": "code",
   "execution_count": 15,
   "id": "de513dd5-2f17-42b7-b3b5-619699c5685e",
   "metadata": {},
   "outputs": [
    {
     "name": "stdout",
     "output_type": "stream",
     "text": [
      "The Array has a length of 4\n"
     ]
    }
   ],
   "source": [
    "real_length = len(dvd_collection) - dvd_collection.count(None)\n",
    "print(f\"The Array has a length of {real_length}\")"
   ]
  },
  {
   "cell_type": "markdown",
   "id": "f8692a99-c8ca-4319-b1e7-dcdda652d797",
   "metadata": {},
   "source": [
    "### Task: Max Consecutive Ones"
   ]
  },
  {
   "cell_type": "markdown",
   "id": "fa0d368e-dbac-4c43-bde7-7f09b6d96181",
   "metadata": {},
   "source": [
    "Given a binary array nums, return the maximum number of consecutive 1's in the array."
   ]
  },
  {
   "cell_type": "markdown",
   "id": "77986077-2190-4c6f-8f7d-3f21bf52b55b",
   "metadata": {},
   "source": [
    "**Input**: `nums = [1,1,0,1,1,1]`  \n",
    "**Output**: 3  \n",
    "**Explanation**: The first two digits or the last three digits are consecutive 1s. The maximum number of consecutive 1s is 3."
   ]
  },
  {
   "cell_type": "code",
   "execution_count": 16,
   "id": "a65e3e26-7bad-4979-b0ff-1dac5e3a24ec",
   "metadata": {},
   "outputs": [],
   "source": [
    "class Solution:\n",
    "    def findMaxConsecutive_awful(self, nums: List[int]) -> int:\n",
    "        pre_val = 0\n",
    "        start = 10 ** 5 + 1\n",
    "        end = 0\n",
    "        max_ones = 0\n",
    "\n",
    "        nums.append(-1)\n",
    "\n",
    "        if len(nums) == 2:\n",
    "            return nums[0]\n",
    "        else:\n",
    "            for i, val in enumerate(nums):\n",
    "                if val == 1 and pre_val != val:\n",
    "                    start = i\n",
    "                    end = 0\n",
    "                if (val == 0 or val == -1) and pre_val != 0:\n",
    "                    end = i - 1\n",
    "                    difference = end - start + 1\n",
    "                    if difference > max_ones:\n",
    "                        max_ones = difference\n",
    "\n",
    "                pre_val = val\n",
    "            return max_ones\n",
    "\n",
    "    def findMaxConsecutiveOnes_string(self, nums: List[int]) -> int:\n",
    "        splitted_ones = \"\".join([str(val) for val in nums]).split(\"0\")\n",
    "        lengths = [len(x) for x in splitted_ones]\n",
    "\n",
    "        return max(lengths)\n",
    "\n",
    "    def findMaxConsecutiveOnes_good(self, nums: List[int]) -> int:\n",
    "        local_max = 0\n",
    "        global_max = 0\n",
    "\n",
    "        for num in nums:\n",
    "            if num == 1:\n",
    "                local_max += 1\n",
    "            else:\n",
    "                if local_max > global_max:\n",
    "                    global_max = local_max\n",
    "                local_max = 0\n",
    "        if local_max > global_max:\n",
    "            global_max = local_max\n",
    "\n",
    "        return global_max"
   ]
  },
  {
   "cell_type": "code",
   "execution_count": 17,
   "id": "cf321400-b3e6-4ea1-83ad-be2c5e84aeb4",
   "metadata": {},
   "outputs": [
    {
     "name": "stdout",
     "output_type": "stream",
     "text": [
      "For case [1, 1, 0, 1, 1, 1] the answer is 3\n",
      "For case [0, 1] the answer is 1\n",
      "For case [1, 0] the answer is 1\n",
      "For case [0] the answer is 0\n",
      "For case [0, 0] the answer is 0\n"
     ]
    }
   ],
   "source": [
    "test_cases = [[1, 1, 0, 1, 1, 1], [0, 1], [1, 0], [0], [0, 0]]\n",
    "for test_case in test_cases:\n",
    "    print(\n",
    "        f\"For case {test_case} the answer is {Solution.findMaxConsecutiveOnes_good(Solution, test_case)}\"\n",
    "    )"
   ]
  },
  {
   "cell_type": "code",
   "execution_count": null,
   "id": "f50cad1c-ddb6-4636-9ddd-9e6ae64597a0",
   "metadata": {},
   "outputs": [],
   "source": []
  }
 ],
 "metadata": {
  "kernelspec": {
   "display_name": "leetcode",
   "language": "python",
   "name": "leetcode"
  },
  "language_info": {
   "codemirror_mode": {
    "name": "ipython",
    "version": 3
   },
   "file_extension": ".py",
   "mimetype": "text/x-python",
   "name": "python",
   "nbconvert_exporter": "python",
   "pygments_lexer": "ipython3",
   "version": "3.8.10"
  }
 },
 "nbformat": 4,
 "nbformat_minor": 5
}
